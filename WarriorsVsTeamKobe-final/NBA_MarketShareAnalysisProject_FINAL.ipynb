{
 "cells": [
  {
   "cell_type": "markdown",
   "metadata": {},
   "source": [
    "# NBA Market Share Analysis Group Project"
   ]
  },
  {
   "cell_type": "markdown",
   "metadata": {},
   "source": [
    "Presentation order: Andrew/Blanca (Intro), Olga (Census, Google), Blanca (Valuation), Kevin, Andrew, Diamond"
   ]
  },
  {
   "cell_type": "markdown",
   "metadata": {},
   "source": [
    "## Import Dependencies and API Keys"
   ]
  },
  {
   "cell_type": "code",
   "execution_count": 1,
   "metadata": {},
   "outputs": [],
   "source": [
    "%matplotlib inline\n",
    "\n",
    "import tweepy\n",
    "import json\n",
    "import gmaps\n",
    "import numpy as np \n",
    "import pandas as pd \n",
    "import matplotlib.pyplot as plt\n",
    "import matplotlib.patches as mpatches\n",
    "from matplotlib.ticker import FuncFormatter\n",
    "import warnings \n",
    "warnings.filterwarnings('ignore')\n",
    "import requests\n",
    "import time\n",
    "import seaborn as sns\n",
    "import scipy.stats as stats\n",
    "import seaborn as sns\n",
    "\n",
    "import statsmodels\n",
    "import statsmodels.api as sm\n",
    "from statsmodels.formula.api import ols\n",
    "\n",
    "from us import states\n",
    "from pprint import pprint\n",
    "from census import Census\n",
    "from vaderSentiment.vaderSentiment import SentimentIntensityAnalyzer\n",
    "\n",
    "# Import API Keys for Census, Google, and Twitter\n",
    "from config import census_key , gkey , consumer_key , consumer_secret , access_token , access_token_secret"
   ]
  },
  {
   "cell_type": "markdown",
   "metadata": {},
   "source": [
    "# <font color = red> Census vs Team Valuation Analysis </font>\n",
    "***"
   ]
  },
  {
   "cell_type": "code",
   "execution_count": 2,
   "metadata": {},
   "outputs": [],
   "source": [
    "# Census API Key\n",
    "c = Census(census_key , year = 2013)"
   ]
  },
  {
   "cell_type": "code",
   "execution_count": 3,
   "metadata": {},
   "outputs": [
    {
     "name": "stdout",
     "output_type": "stream",
     "text": [
      "Census data (33120 lines) for the year 2016\n"
     ]
    },
    {
     "data": {
      "text/html": [
       "<div>\n",
       "<style scoped>\n",
       "    .dataframe tbody tr th:only-of-type {\n",
       "        vertical-align: middle;\n",
       "    }\n",
       "\n",
       "    .dataframe tbody tr th {\n",
       "        vertical-align: top;\n",
       "    }\n",
       "\n",
       "    .dataframe thead th {\n",
       "        text-align: right;\n",
       "    }\n",
       "</style>\n",
       "<table border=\"1\" class=\"dataframe\">\n",
       "  <thead>\n",
       "    <tr style=\"text-align: right;\">\n",
       "      <th></th>\n",
       "      <th>Population</th>\n",
       "      <th>Median Household Income</th>\n",
       "      <th>Per Capita Income</th>\n",
       "      <th>Average Rent</th>\n",
       "      <th>Zipcode</th>\n",
       "    </tr>\n",
       "  </thead>\n",
       "  <tbody>\n",
       "    <tr>\n",
       "      <th>0</th>\n",
       "      <td>18450.0</td>\n",
       "      <td>12041.0</td>\n",
       "      <td>7380.0</td>\n",
       "      <td>285.0</td>\n",
       "      <td>00601</td>\n",
       "    </tr>\n",
       "    <tr>\n",
       "      <th>1</th>\n",
       "      <td>41302.0</td>\n",
       "      <td>15663.0</td>\n",
       "      <td>8463.0</td>\n",
       "      <td>319.0</td>\n",
       "      <td>00602</td>\n",
       "    </tr>\n",
       "    <tr>\n",
       "      <th>2</th>\n",
       "      <td>53683.0</td>\n",
       "      <td>15485.0</td>\n",
       "      <td>9176.0</td>\n",
       "      <td>252.0</td>\n",
       "      <td>00603</td>\n",
       "    </tr>\n",
       "    <tr>\n",
       "      <th>3</th>\n",
       "      <td>6591.0</td>\n",
       "      <td>15019.0</td>\n",
       "      <td>6383.0</td>\n",
       "      <td>230.0</td>\n",
       "      <td>00606</td>\n",
       "    </tr>\n",
       "    <tr>\n",
       "      <th>4</th>\n",
       "      <td>28963.0</td>\n",
       "      <td>16707.0</td>\n",
       "      <td>7892.0</td>\n",
       "      <td>334.0</td>\n",
       "      <td>00610</td>\n",
       "    </tr>\n",
       "  </tbody>\n",
       "</table>\n",
       "</div>"
      ],
      "text/plain": [
       "   Population  Median Household Income  Per Capita Income  Average Rent  \\\n",
       "0     18450.0                  12041.0             7380.0         285.0   \n",
       "1     41302.0                  15663.0             8463.0         319.0   \n",
       "2     53683.0                  15485.0             9176.0         252.0   \n",
       "3      6591.0                  15019.0             6383.0         230.0   \n",
       "4     28963.0                  16707.0             7892.0         334.0   \n",
       "\n",
       "  Zipcode  \n",
       "0   00601  \n",
       "1   00602  \n",
       "2   00603  \n",
       "3   00606  \n",
       "4   00610  "
      ]
     },
     "execution_count": 3,
     "metadata": {},
     "output_type": "execute_result"
    }
   ],
   "source": [
    "# \"B01003_001E\" Total Population\n",
    "# \"B19301_001E\" Per capita income\n",
    "# \"B25058_001E\" Average rent| Median contract rent\n",
    "# \"B19013_001E\" Median household income\n",
    "census_data = c.acs5.get((\"B01003_001E\", \"B19301_001E\", \"B25058_001E\", \"B19013_001E\" ), \n",
    "                         {'for': 'zip code tabulation area:*'})\n",
    "\n",
    "# Convert to DataFrame\n",
    "census_pd = pd.DataFrame(census_data)\n",
    "\n",
    "# Column Reordering\n",
    "census_pd = census_pd.rename(columns={\"B01003_001E\": \"Population\",\n",
    "                                      \"B19301_001E\": \"Per Capita Income\",\n",
    "                                      \"B25058_001E\": \"Average Rent\",\n",
    "                                      \"B19013_001E\": \"Median Household Income\",\n",
    "                                      \"zip code tabulation area\": \"Zipcode\"})\n",
    "\n",
    "# Visualize\n",
    "print(f\"Census data ({len(census_pd)} lines) for the year 2016\")\n",
    "census_pd.head()"
   ]
  },
  {
   "cell_type": "code",
   "execution_count": 4,
   "metadata": {},
   "outputs": [
    {
     "data": {
      "text/html": [
       "<div>\n",
       "<style scoped>\n",
       "    .dataframe tbody tr th:only-of-type {\n",
       "        vertical-align: middle;\n",
       "    }\n",
       "\n",
       "    .dataframe tbody tr th {\n",
       "        vertical-align: top;\n",
       "    }\n",
       "\n",
       "    .dataframe thead th {\n",
       "        text-align: right;\n",
       "    }\n",
       "</style>\n",
       "<table border=\"1\" class=\"dataframe\">\n",
       "  <thead>\n",
       "    <tr style=\"text-align: right;\">\n",
       "      <th></th>\n",
       "      <th>Zipcode</th>\n",
       "      <th>City</th>\n",
       "      <th>State</th>\n",
       "    </tr>\n",
       "  </thead>\n",
       "  <tbody>\n",
       "    <tr>\n",
       "      <th>0</th>\n",
       "      <td>00705</td>\n",
       "      <td>AIBONITO</td>\n",
       "      <td>PR</td>\n",
       "    </tr>\n",
       "    <tr>\n",
       "      <th>1</th>\n",
       "      <td>00610</td>\n",
       "      <td>ANASCO</td>\n",
       "      <td>PR</td>\n",
       "    </tr>\n",
       "    <tr>\n",
       "      <th>2</th>\n",
       "      <td>00611</td>\n",
       "      <td>ANGELES</td>\n",
       "      <td>PR</td>\n",
       "    </tr>\n",
       "    <tr>\n",
       "      <th>3</th>\n",
       "      <td>00612</td>\n",
       "      <td>ARECIBO</td>\n",
       "      <td>PR</td>\n",
       "    </tr>\n",
       "    <tr>\n",
       "      <th>4</th>\n",
       "      <td>00601</td>\n",
       "      <td>ADJUNTAS</td>\n",
       "      <td>PR</td>\n",
       "    </tr>\n",
       "  </tbody>\n",
       "</table>\n",
       "</div>"
      ],
      "text/plain": [
       "  Zipcode      City State\n",
       "0   00705  AIBONITO    PR\n",
       "1   00610    ANASCO    PR\n",
       "2   00611   ANGELES    PR\n",
       "3   00612   ARECIBO    PR\n",
       "4   00601  ADJUNTAS    PR"
      ]
     },
     "execution_count": 4,
     "metadata": {},
     "output_type": "execute_result"
    }
   ],
   "source": [
    "# Import zip codes from the official databese of US zip codes\n",
    "zip_codes = pd.read_csv(\"Resources/free-zipcode-database-Primary.csv\", dtype=\"object\", encoding=\"utf-8\")\n",
    "\n",
    "# Visualize\n",
    "zip_codes = zip_codes[[\"Zipcode\", \"City\", \"State\"]]\n",
    "zip_codes.head()"
   ]
  },
  {
   "cell_type": "markdown",
   "metadata": {},
   "source": [
    "#### <font color = blue> Left Merge Census data with Zip Code DB to extract Census data for US Cities"
   ]
  },
  {
   "cell_type": "code",
   "execution_count": 5,
   "metadata": {},
   "outputs": [
    {
     "data": {
      "text/html": [
       "<div>\n",
       "<style scoped>\n",
       "    .dataframe tbody tr th:only-of-type {\n",
       "        vertical-align: middle;\n",
       "    }\n",
       "\n",
       "    .dataframe tbody tr th {\n",
       "        vertical-align: top;\n",
       "    }\n",
       "\n",
       "    .dataframe thead th {\n",
       "        text-align: right;\n",
       "    }\n",
       "</style>\n",
       "<table border=\"1\" class=\"dataframe\">\n",
       "  <thead>\n",
       "    <tr style=\"text-align: right;\">\n",
       "      <th></th>\n",
       "      <th>Population</th>\n",
       "      <th>Median Household Income</th>\n",
       "      <th>Per Capita Income</th>\n",
       "      <th>Average Rent</th>\n",
       "      <th>Zipcode</th>\n",
       "      <th>City</th>\n",
       "      <th>State</th>\n",
       "    </tr>\n",
       "  </thead>\n",
       "  <tbody>\n",
       "    <tr>\n",
       "      <th>0</th>\n",
       "      <td>18450.0</td>\n",
       "      <td>12041.0</td>\n",
       "      <td>7380.0</td>\n",
       "      <td>285.0</td>\n",
       "      <td>00601</td>\n",
       "      <td>ADJUNTAS</td>\n",
       "      <td>PR</td>\n",
       "    </tr>\n",
       "    <tr>\n",
       "      <th>1</th>\n",
       "      <td>41302.0</td>\n",
       "      <td>15663.0</td>\n",
       "      <td>8463.0</td>\n",
       "      <td>319.0</td>\n",
       "      <td>00602</td>\n",
       "      <td>AGUADA</td>\n",
       "      <td>PR</td>\n",
       "    </tr>\n",
       "    <tr>\n",
       "      <th>2</th>\n",
       "      <td>53683.0</td>\n",
       "      <td>15485.0</td>\n",
       "      <td>9176.0</td>\n",
       "      <td>252.0</td>\n",
       "      <td>00603</td>\n",
       "      <td>AGUADILLA</td>\n",
       "      <td>PR</td>\n",
       "    </tr>\n",
       "    <tr>\n",
       "      <th>3</th>\n",
       "      <td>6591.0</td>\n",
       "      <td>15019.0</td>\n",
       "      <td>6383.0</td>\n",
       "      <td>230.0</td>\n",
       "      <td>00606</td>\n",
       "      <td>MARICAO</td>\n",
       "      <td>PR</td>\n",
       "    </tr>\n",
       "    <tr>\n",
       "      <th>4</th>\n",
       "      <td>28963.0</td>\n",
       "      <td>16707.0</td>\n",
       "      <td>7892.0</td>\n",
       "      <td>334.0</td>\n",
       "      <td>00610</td>\n",
       "      <td>ANASCO</td>\n",
       "      <td>PR</td>\n",
       "    </tr>\n",
       "  </tbody>\n",
       "</table>\n",
       "</div>"
      ],
      "text/plain": [
       "   Population  Median Household Income  Per Capita Income  Average Rent  \\\n",
       "0     18450.0                  12041.0             7380.0         285.0   \n",
       "1     41302.0                  15663.0             8463.0         319.0   \n",
       "2     53683.0                  15485.0             9176.0         252.0   \n",
       "3      6591.0                  15019.0             6383.0         230.0   \n",
       "4     28963.0                  16707.0             7892.0         334.0   \n",
       "\n",
       "  Zipcode       City State  \n",
       "0   00601   ADJUNTAS    PR  \n",
       "1   00602     AGUADA    PR  \n",
       "2   00603  AGUADILLA    PR  \n",
       "3   00606    MARICAO    PR  \n",
       "4   00610     ANASCO    PR  "
      ]
     },
     "execution_count": 5,
     "metadata": {},
     "output_type": "execute_result"
    }
   ],
   "source": [
    "# Merge the two data sets along zip code\n",
    "census_data_complete = pd.merge(census_pd, zip_codes, how=\"left\", on=[\"Zipcode\"])\n",
    "\n",
    "# Save the revised Data Frame as a csv\n",
    "census_data_complete.to_csv(\"Output/CensusDataWithCityName.csv\", encoding=\"utf-8\", index=False)\n",
    "\n",
    "# Visualize\n",
    "census_data_complete.head()"
   ]
  },
  {
   "cell_type": "code",
   "execution_count": 6,
   "metadata": {},
   "outputs": [
    {
     "data": {
      "text/plain": [
       "array(['AARONSBURG', 'ABBEVILLE', 'ABBOT', ..., 'ZURICH', 'ZWINGLE',\n",
       "       'ZWOLLE'], dtype=object)"
      ]
     },
     "execution_count": 6,
     "metadata": {},
     "output_type": "execute_result"
    }
   ],
   "source": [
    "# Create ascending list of cities to add to a grouped DataFrame as after groupby['City'] we can not call fieald \"City\"\n",
    "city_unique = census_data_complete['City'].unique()\n",
    "city_list = np.sort(city_unique)\n",
    "city_list"
   ]
  },
  {
   "cell_type": "code",
   "execution_count": 7,
   "metadata": {},
   "outputs": [
    {
     "name": "stdout",
     "output_type": "stream",
     "text": [
      "Key values of USA Sensus grouped by City\n"
     ]
    },
    {
     "data": {
      "text/html": [
       "<div>\n",
       "<style scoped>\n",
       "    .dataframe tbody tr th:only-of-type {\n",
       "        vertical-align: middle;\n",
       "    }\n",
       "\n",
       "    .dataframe tbody tr th {\n",
       "        vertical-align: top;\n",
       "    }\n",
       "\n",
       "    .dataframe thead th {\n",
       "        text-align: right;\n",
       "    }\n",
       "</style>\n",
       "<table border=\"1\" class=\"dataframe\">\n",
       "  <thead>\n",
       "    <tr style=\"text-align: right;\">\n",
       "      <th></th>\n",
       "      <th>Population</th>\n",
       "      <th>Per Capita Income</th>\n",
       "      <th>Average Rent</th>\n",
       "      <th>City</th>\n",
       "      <th>Median Household Income</th>\n",
       "    </tr>\n",
       "    <tr>\n",
       "      <th>City</th>\n",
       "      <th></th>\n",
       "      <th></th>\n",
       "      <th></th>\n",
       "      <th></th>\n",
       "      <th></th>\n",
       "    </tr>\n",
       "  </thead>\n",
       "  <tbody>\n",
       "    <tr>\n",
       "      <th>AARONSBURG</th>\n",
       "      <td>1303.0</td>\n",
       "      <td>19439.0</td>\n",
       "      <td>527.0</td>\n",
       "      <td>AARONSBURG</td>\n",
       "      <td>55947.0</td>\n",
       "    </tr>\n",
       "    <tr>\n",
       "      <th>ABBEVILLE</th>\n",
       "      <td>53225.0</td>\n",
       "      <td>18245.4</td>\n",
       "      <td>366.8</td>\n",
       "      <td>ABBEVILLE</td>\n",
       "      <td>40417.4</td>\n",
       "    </tr>\n",
       "    <tr>\n",
       "      <th>ABBOT</th>\n",
       "      <td>641.0</td>\n",
       "      <td>19646.0</td>\n",
       "      <td>438.0</td>\n",
       "      <td>ABBOT</td>\n",
       "      <td>36121.0</td>\n",
       "    </tr>\n",
       "    <tr>\n",
       "      <th>ABBOTSFORD</th>\n",
       "      <td>2830.0</td>\n",
       "      <td>24130.0</td>\n",
       "      <td>433.0</td>\n",
       "      <td>ABBOTSFORD</td>\n",
       "      <td>45609.0</td>\n",
       "    </tr>\n",
       "    <tr>\n",
       "      <th>ABBOTT</th>\n",
       "      <td>1021.0</td>\n",
       "      <td>26652.0</td>\n",
       "      <td>471.0</td>\n",
       "      <td>ABBOTT</td>\n",
       "      <td>57361.0</td>\n",
       "    </tr>\n",
       "  </tbody>\n",
       "</table>\n",
       "</div>"
      ],
      "text/plain": [
       "            Population  Per Capita Income  Average Rent        City  \\\n",
       "City                                                                  \n",
       "AARONSBURG      1303.0            19439.0         527.0  AARONSBURG   \n",
       "ABBEVILLE      53225.0            18245.4         366.8   ABBEVILLE   \n",
       "ABBOT            641.0            19646.0         438.0       ABBOT   \n",
       "ABBOTSFORD      2830.0            24130.0         433.0  ABBOTSFORD   \n",
       "ABBOTT          1021.0            26652.0         471.0      ABBOTT   \n",
       "\n",
       "            Median Household Income  \n",
       "City                                 \n",
       "AARONSBURG                  55947.0  \n",
       "ABBEVILLE                   40417.4  \n",
       "ABBOT                       36121.0  \n",
       "ABBOTSFORD                  45609.0  \n",
       "ABBOTT                      57361.0  "
      ]
     },
     "execution_count": 7,
     "metadata": {},
     "output_type": "execute_result"
    }
   ],
   "source": [
    "grouped_by_city = census_data_complete.groupby(census_data_complete['City'])\n",
    "\n",
    "population = round(grouped_by_city['Population'].sum(),1)\n",
    "per_cap_inc = round(grouped_by_city['Per Capita Income'].mean(),1)\n",
    "rent = round(grouped_by_city['Average Rent'].mean(),1)\n",
    "household_inc = round(grouped_by_city['Median Household Income'].mean(),1)\n",
    "\n",
    "city_summary = pd.DataFrame({\"Population\": population, \"Per Capita Income\": per_cap_inc,\n",
    "                            \"Average Rent\": rent, \"City\": city_list, \"Median Household Income\": household_inc})\n",
    "\n",
    "# Save the revised Data Frame as a csv\n",
    "city_summary.to_csv(\"Output/CitySummary.csv\", encoding=\"utf-8\", index=False)\n",
    "\n",
    "print('Key values of USA Sensus grouped by City')\n",
    "city_summary.head()"
   ]
  },
  {
   "cell_type": "markdown",
   "metadata": {},
   "source": [
    "#### <font color = blue> Import Team Valuation Data"
   ]
  },
  {
   "cell_type": "code",
   "execution_count": 8,
   "metadata": {},
   "outputs": [
    {
     "data": {
      "text/html": [
       "<div>\n",
       "<style scoped>\n",
       "    .dataframe tbody tr th:only-of-type {\n",
       "        vertical-align: middle;\n",
       "    }\n",
       "\n",
       "    .dataframe tbody tr th {\n",
       "        vertical-align: top;\n",
       "    }\n",
       "\n",
       "    .dataframe thead th {\n",
       "        text-align: right;\n",
       "    }\n",
       "</style>\n",
       "<table border=\"1\" class=\"dataframe\">\n",
       "  <thead>\n",
       "    <tr style=\"text-align: right;\">\n",
       "      <th></th>\n",
       "      <th>Item</th>\n",
       "      <th>City</th>\n",
       "      <th>State</th>\n",
       "      <th>Code</th>\n",
       "      <th>2017</th>\n",
       "    </tr>\n",
       "  </thead>\n",
       "  <tbody>\n",
       "    <tr>\n",
       "      <th>0</th>\n",
       "      <td>New York Knicks</td>\n",
       "      <td>NEW YORK</td>\n",
       "      <td>New York</td>\n",
       "      <td>NY</td>\n",
       "      <td>3300</td>\n",
       "    </tr>\n",
       "    <tr>\n",
       "      <th>1</th>\n",
       "      <td>Los Angeles Lakers</td>\n",
       "      <td>LOS ANGELES</td>\n",
       "      <td>California</td>\n",
       "      <td>CA</td>\n",
       "      <td>3000</td>\n",
       "    </tr>\n",
       "    <tr>\n",
       "      <th>2</th>\n",
       "      <td>Golden State Warriors</td>\n",
       "      <td>SAN FRANCISCO</td>\n",
       "      <td>California</td>\n",
       "      <td>CA</td>\n",
       "      <td>2600</td>\n",
       "    </tr>\n",
       "    <tr>\n",
       "      <th>3</th>\n",
       "      <td>Chicago Bulls</td>\n",
       "      <td>CHICAGO</td>\n",
       "      <td>Illinois</td>\n",
       "      <td>IL</td>\n",
       "      <td>2500</td>\n",
       "    </tr>\n",
       "    <tr>\n",
       "      <th>4</th>\n",
       "      <td>Boston Celtics</td>\n",
       "      <td>BOSTON</td>\n",
       "      <td>Massachusetts</td>\n",
       "      <td>MA</td>\n",
       "      <td>2200</td>\n",
       "    </tr>\n",
       "  </tbody>\n",
       "</table>\n",
       "</div>"
      ],
      "text/plain": [
       "                    Item           City          State Code  2017\n",
       "0        New York Knicks       NEW YORK       New York   NY  3300\n",
       "1     Los Angeles Lakers    LOS ANGELES     California   CA  3000\n",
       "2  Golden State Warriors  SAN FRANCISCO     California   CA  2600\n",
       "3          Chicago Bulls        CHICAGO       Illinois   IL  2500\n",
       "4         Boston Celtics         BOSTON  Massachusetts   MA  2200"
      ]
     },
     "execution_count": 8,
     "metadata": {},
     "output_type": "execute_result"
    }
   ],
   "source": [
    "# Import NBA Teams Valuation Data\n",
    "team_valuations = pd.read_csv(\"Resources/TeamValuations_oy.csv\", dtype=\"object\", encoding=\"utf-8\")\n",
    "\n",
    "# Team valuations 2017\n",
    "team_valuations = team_valuations[[\"Item\", \"City\", \"State\", \"Code\", \"2017\"]]\n",
    "team_valuations.head()"
   ]
  },
  {
   "cell_type": "markdown",
   "metadata": {},
   "source": [
    "#### <font color = blue> Clean Census Data\n",
    "> * There are zip codes that did not get populated with Census data - this resulted in distortion of results for Big Market cities like New York and Los Angeles. Some data points (e.g. Population) were more impacted than averaged data points (e.g. Per capita Income)\n",
    "> * Toronto Data: manually updated because this is not in US Census (CAN)"
   ]
  },
  {
   "cell_type": "code",
   "execution_count": 9,
   "metadata": {},
   "outputs": [
    {
     "data": {
      "text/html": [
       "<div>\n",
       "<style scoped>\n",
       "    .dataframe tbody tr th:only-of-type {\n",
       "        vertical-align: middle;\n",
       "    }\n",
       "\n",
       "    .dataframe tbody tr th {\n",
       "        vertical-align: top;\n",
       "    }\n",
       "\n",
       "    .dataframe thead th {\n",
       "        text-align: right;\n",
       "    }\n",
       "</style>\n",
       "<table border=\"1\" class=\"dataframe\">\n",
       "  <thead>\n",
       "    <tr style=\"text-align: right;\">\n",
       "      <th></th>\n",
       "      <th>Item</th>\n",
       "      <th>City</th>\n",
       "      <th>State</th>\n",
       "      <th>Code</th>\n",
       "      <th>2017</th>\n",
       "      <th>Population</th>\n",
       "      <th>Per Capita Income</th>\n",
       "      <th>Average Rent</th>\n",
       "      <th>Median Household Income</th>\n",
       "    </tr>\n",
       "  </thead>\n",
       "  <tbody>\n",
       "    <tr>\n",
       "      <th>0</th>\n",
       "      <td>New York Knicks</td>\n",
       "      <td>NEW YORK</td>\n",
       "      <td>New York</td>\n",
       "      <td>NY</td>\n",
       "      <td>3300</td>\n",
       "      <td>8622698.0</td>\n",
       "      <td>60991.0</td>\n",
       "      <td>1556.9</td>\n",
       "      <td>88988.9</td>\n",
       "    </tr>\n",
       "    <tr>\n",
       "      <th>1</th>\n",
       "      <td>Los Angeles Lakers</td>\n",
       "      <td>LOS ANGELES</td>\n",
       "      <td>California</td>\n",
       "      <td>CA</td>\n",
       "      <td>3000</td>\n",
       "      <td>3999759.0</td>\n",
       "      <td>42042.0</td>\n",
       "      <td>1055.7</td>\n",
       "      <td>46232.6</td>\n",
       "    </tr>\n",
       "    <tr>\n",
       "      <th>2</th>\n",
       "      <td>Golden State Warriors</td>\n",
       "      <td>SAN FRANCISCO</td>\n",
       "      <td>California</td>\n",
       "      <td>CA</td>\n",
       "      <td>2600</td>\n",
       "      <td>817539.0</td>\n",
       "      <td>56259.8</td>\n",
       "      <td>1480.8</td>\n",
       "      <td>80370.7</td>\n",
       "    </tr>\n",
       "    <tr>\n",
       "      <th>3</th>\n",
       "      <td>Chicago Bulls</td>\n",
       "      <td>CHICAGO</td>\n",
       "      <td>Illinois</td>\n",
       "      <td>IL</td>\n",
       "      <td>2500</td>\n",
       "      <td>2690705.0</td>\n",
       "      <td>37423.4</td>\n",
       "      <td>966.3</td>\n",
       "      <td>56087.7</td>\n",
       "    </tr>\n",
       "    <tr>\n",
       "      <th>4</th>\n",
       "      <td>Boston Celtics</td>\n",
       "      <td>BOSTON</td>\n",
       "      <td>Massachusetts</td>\n",
       "      <td>MA</td>\n",
       "      <td>2200</td>\n",
       "      <td>685094.0</td>\n",
       "      <td>55031.6</td>\n",
       "      <td>1320.8</td>\n",
       "      <td>67972.0</td>\n",
       "    </tr>\n",
       "    <tr>\n",
       "      <th>5</th>\n",
       "      <td>Los Angeles Clippers</td>\n",
       "      <td>LOS ANGELES</td>\n",
       "      <td>California</td>\n",
       "      <td>CA</td>\n",
       "      <td>2000</td>\n",
       "      <td>3999760.0</td>\n",
       "      <td>42042.0</td>\n",
       "      <td>1055.7</td>\n",
       "      <td>46232.6</td>\n",
       "    </tr>\n",
       "    <tr>\n",
       "      <th>6</th>\n",
       "      <td>Brooklyn Nets</td>\n",
       "      <td>BROOKLYN</td>\n",
       "      <td>New York</td>\n",
       "      <td>NY</td>\n",
       "      <td>1800</td>\n",
       "      <td>2600812.0</td>\n",
       "      <td>26437.3</td>\n",
       "      <td>1019.5</td>\n",
       "      <td>49367.5</td>\n",
       "    </tr>\n",
       "    <tr>\n",
       "      <th>7</th>\n",
       "      <td>Houston Rockets</td>\n",
       "      <td>HOUSTON</td>\n",
       "      <td>Texas</td>\n",
       "      <td>TX</td>\n",
       "      <td>1650</td>\n",
       "      <td>2990053.0</td>\n",
       "      <td>30449.1</td>\n",
       "      <td>736.8</td>\n",
       "      <td>53997.2</td>\n",
       "    </tr>\n",
       "    <tr>\n",
       "      <th>8</th>\n",
       "      <td>Dallas Mavericks</td>\n",
       "      <td>DALLAS</td>\n",
       "      <td>Texas</td>\n",
       "      <td>TX</td>\n",
       "      <td>1450</td>\n",
       "      <td>1427050.0</td>\n",
       "      <td>30534.3</td>\n",
       "      <td>749.2</td>\n",
       "      <td>50097.9</td>\n",
       "    </tr>\n",
       "    <tr>\n",
       "      <th>9</th>\n",
       "      <td>Cleveland Cavaliers</td>\n",
       "      <td>CLEVELAND</td>\n",
       "      <td>Ohio</td>\n",
       "      <td>OH</td>\n",
       "      <td>1200</td>\n",
       "      <td>396698.0</td>\n",
       "      <td>21467.1</td>\n",
       "      <td>561.2</td>\n",
       "      <td>39630.4</td>\n",
       "    </tr>\n",
       "    <tr>\n",
       "      <th>10</th>\n",
       "      <td>Miami Heat</td>\n",
       "      <td>MIAMI</td>\n",
       "      <td>Florida</td>\n",
       "      <td>FL</td>\n",
       "      <td>1350</td>\n",
       "      <td>463347.0</td>\n",
       "      <td>24532.0</td>\n",
       "      <td>1031.9</td>\n",
       "      <td>49972.1</td>\n",
       "    </tr>\n",
       "    <tr>\n",
       "      <th>11</th>\n",
       "      <td>San Antonio Spurs</td>\n",
       "      <td>SAN ANTONIO</td>\n",
       "      <td>Texas</td>\n",
       "      <td>TX</td>\n",
       "      <td>1175</td>\n",
       "      <td>1632230.0</td>\n",
       "      <td>25156.2</td>\n",
       "      <td>741.5</td>\n",
       "      <td>53011.5</td>\n",
       "    </tr>\n",
       "    <tr>\n",
       "      <th>12</th>\n",
       "      <td>Toronto Raptors</td>\n",
       "      <td>TORONTO</td>\n",
       "      <td>Ontario</td>\n",
       "      <td>NaN</td>\n",
       "      <td>1125</td>\n",
       "      <td>2731571.0</td>\n",
       "      <td>30089.0</td>\n",
       "      <td>847.0</td>\n",
       "      <td>40553.0</td>\n",
       "    </tr>\n",
       "    <tr>\n",
       "      <th>13</th>\n",
       "      <td>Phoenix Suns</td>\n",
       "      <td>PHOENIX</td>\n",
       "      <td>Arizona</td>\n",
       "      <td>AZ</td>\n",
       "      <td>1100</td>\n",
       "      <td>1626078.0</td>\n",
       "      <td>25993.0</td>\n",
       "      <td>778.5</td>\n",
       "      <td>50588.9</td>\n",
       "    </tr>\n",
       "    <tr>\n",
       "      <th>14</th>\n",
       "      <td>Sacramento Kings</td>\n",
       "      <td>SACRAMENTO</td>\n",
       "      <td>California</td>\n",
       "      <td>CA</td>\n",
       "      <td>1075</td>\n",
       "      <td>501901.0</td>\n",
       "      <td>25994.3</td>\n",
       "      <td>870.8</td>\n",
       "      <td>49579.8</td>\n",
       "    </tr>\n",
       "    <tr>\n",
       "      <th>15</th>\n",
       "      <td>Portland Trail Blazers</td>\n",
       "      <td>PORTLAND</td>\n",
       "      <td>Oregon</td>\n",
       "      <td>OR</td>\n",
       "      <td>1050</td>\n",
       "      <td>647805.0</td>\n",
       "      <td>31394.9</td>\n",
       "      <td>773.0</td>\n",
       "      <td>54586.0</td>\n",
       "    </tr>\n",
       "    <tr>\n",
       "      <th>16</th>\n",
       "      <td>Oklahoma City Thunder</td>\n",
       "      <td>OKLAHOMA CITY</td>\n",
       "      <td>Oklahoma</td>\n",
       "      <td>OK</td>\n",
       "      <td>1025</td>\n",
       "      <td>649550.0</td>\n",
       "      <td>26923.0</td>\n",
       "      <td>621.3</td>\n",
       "      <td>49832.9</td>\n",
       "    </tr>\n",
       "    <tr>\n",
       "      <th>17</th>\n",
       "      <td>Washington Wizards</td>\n",
       "      <td>WASHINGTON</td>\n",
       "      <td>NaN</td>\n",
       "      <td>NaN</td>\n",
       "      <td>1000</td>\n",
       "      <td>693972.0</td>\n",
       "      <td>38207.3</td>\n",
       "      <td>963.8</td>\n",
       "      <td>64575.2</td>\n",
       "    </tr>\n",
       "    <tr>\n",
       "      <th>18</th>\n",
       "      <td>Orlando Magic</td>\n",
       "      <td>ORLANDO</td>\n",
       "      <td>Florida</td>\n",
       "      <td>FL</td>\n",
       "      <td>920</td>\n",
       "      <td>277173.0</td>\n",
       "      <td>25463.2</td>\n",
       "      <td>879.8</td>\n",
       "      <td>49967.3</td>\n",
       "    </tr>\n",
       "    <tr>\n",
       "      <th>19</th>\n",
       "      <td>Utah Jazz</td>\n",
       "      <td>SALT LAKE CITY</td>\n",
       "      <td>Utah</td>\n",
       "      <td>UT</td>\n",
       "      <td>910</td>\n",
       "      <td>200544.0</td>\n",
       "      <td>26925.3</td>\n",
       "      <td>808.2</td>\n",
       "      <td>52353.6</td>\n",
       "    </tr>\n",
       "    <tr>\n",
       "      <th>20</th>\n",
       "      <td>Detroit Pistons</td>\n",
       "      <td>DETROIT</td>\n",
       "      <td>Michigan</td>\n",
       "      <td>MI</td>\n",
       "      <td>900</td>\n",
       "      <td>670114.0</td>\n",
       "      <td>16050.7</td>\n",
       "      <td>546.4</td>\n",
       "      <td>27362.3</td>\n",
       "    </tr>\n",
       "    <tr>\n",
       "      <th>21</th>\n",
       "      <td>Denver Nuggets</td>\n",
       "      <td>DENVER</td>\n",
       "      <td>Colorado</td>\n",
       "      <td>CO</td>\n",
       "      <td>890</td>\n",
       "      <td>704621.0</td>\n",
       "      <td>32467.0</td>\n",
       "      <td>826.8</td>\n",
       "      <td>55145.5</td>\n",
       "    </tr>\n",
       "    <tr>\n",
       "      <th>22</th>\n",
       "      <td>Atlanta Hawks</td>\n",
       "      <td>ATLANTA</td>\n",
       "      <td>Georgia</td>\n",
       "      <td>GA</td>\n",
       "      <td>885</td>\n",
       "      <td>486290.0</td>\n",
       "      <td>32860.3</td>\n",
       "      <td>750.4</td>\n",
       "      <td>51576.2</td>\n",
       "    </tr>\n",
       "    <tr>\n",
       "      <th>23</th>\n",
       "      <td>Indiana Pacers</td>\n",
       "      <td>INDIANAPOLIS</td>\n",
       "      <td>Indiana</td>\n",
       "      <td>IN</td>\n",
       "      <td>880</td>\n",
       "      <td>920374.0</td>\n",
       "      <td>27422.8</td>\n",
       "      <td>716.5</td>\n",
       "      <td>51112.2</td>\n",
       "    </tr>\n",
       "    <tr>\n",
       "      <th>24</th>\n",
       "      <td>Philadelphia 76ers</td>\n",
       "      <td>PHILADELPHIA</td>\n",
       "      <td>Pennsylvania</td>\n",
       "      <td>PA</td>\n",
       "      <td>800</td>\n",
       "      <td>1571585.0</td>\n",
       "      <td>26259.0</td>\n",
       "      <td>769.6</td>\n",
       "      <td>43953.9</td>\n",
       "    </tr>\n",
       "    <tr>\n",
       "      <th>25</th>\n",
       "      <td>Memphis Grizzlies</td>\n",
       "      <td>MEMPHIS</td>\n",
       "      <td>Tennessee</td>\n",
       "      <td>TN</td>\n",
       "      <td>790</td>\n",
       "      <td>718904.0</td>\n",
       "      <td>22829.9</td>\n",
       "      <td>607.5</td>\n",
       "      <td>43144.3</td>\n",
       "    </tr>\n",
       "    <tr>\n",
       "      <th>26</th>\n",
       "      <td>Milwaukee Bucks</td>\n",
       "      <td>MILWAUKEE</td>\n",
       "      <td>Wisconsin</td>\n",
       "      <td>WI</td>\n",
       "      <td>785</td>\n",
       "      <td>595351.0</td>\n",
       "      <td>25004.9</td>\n",
       "      <td>688.3</td>\n",
       "      <td>43292.6</td>\n",
       "    </tr>\n",
       "    <tr>\n",
       "      <th>27</th>\n",
       "      <td>Charlotte Hornets</td>\n",
       "      <td>CHARLOTTE</td>\n",
       "      <td>North Carolina</td>\n",
       "      <td>NC</td>\n",
       "      <td>780</td>\n",
       "      <td>850031.0</td>\n",
       "      <td>33659.9</td>\n",
       "      <td>745.7</td>\n",
       "      <td>57192.2</td>\n",
       "    </tr>\n",
       "    <tr>\n",
       "      <th>28</th>\n",
       "      <td>Minnesota Timberwolves</td>\n",
       "      <td>MINNEAPOLIS</td>\n",
       "      <td>Minnesota</td>\n",
       "      <td>MN</td>\n",
       "      <td>770</td>\n",
       "      <td>422331.0</td>\n",
       "      <td>34581.0</td>\n",
       "      <td>871.5</td>\n",
       "      <td>63135.0</td>\n",
       "    </tr>\n",
       "    <tr>\n",
       "      <th>29</th>\n",
       "      <td>New Orleans Pelicans</td>\n",
       "      <td>NEW ORLEANS</td>\n",
       "      <td>Louisiana</td>\n",
       "      <td>LA</td>\n",
       "      <td>750</td>\n",
       "      <td>395474.0</td>\n",
       "      <td>26741.8</td>\n",
       "      <td>753.1</td>\n",
       "      <td>38442.6</td>\n",
       "    </tr>\n",
       "  </tbody>\n",
       "</table>\n",
       "</div>"
      ],
      "text/plain": [
       "                      Item            City           State Code  2017  \\\n",
       "0          New York Knicks        NEW YORK        New York   NY  3300   \n",
       "1       Los Angeles Lakers     LOS ANGELES      California   CA  3000   \n",
       "2    Golden State Warriors   SAN FRANCISCO      California   CA  2600   \n",
       "3            Chicago Bulls         CHICAGO        Illinois   IL  2500   \n",
       "4           Boston Celtics          BOSTON   Massachusetts   MA  2200   \n",
       "5     Los Angeles Clippers     LOS ANGELES      California   CA  2000   \n",
       "6            Brooklyn Nets        BROOKLYN        New York   NY  1800   \n",
       "7          Houston Rockets         HOUSTON           Texas   TX  1650   \n",
       "8         Dallas Mavericks          DALLAS           Texas   TX  1450   \n",
       "9      Cleveland Cavaliers       CLEVELAND            Ohio   OH  1200   \n",
       "10              Miami Heat           MIAMI         Florida   FL  1350   \n",
       "11       San Antonio Spurs     SAN ANTONIO           Texas   TX  1175   \n",
       "12         Toronto Raptors         TORONTO         Ontario  NaN  1125   \n",
       "13            Phoenix Suns         PHOENIX         Arizona   AZ  1100   \n",
       "14        Sacramento Kings      SACRAMENTO      California   CA  1075   \n",
       "15  Portland Trail Blazers        PORTLAND          Oregon   OR  1050   \n",
       "16   Oklahoma City Thunder   OKLAHOMA CITY        Oklahoma   OK  1025   \n",
       "17      Washington Wizards      WASHINGTON             NaN  NaN  1000   \n",
       "18           Orlando Magic         ORLANDO         Florida   FL   920   \n",
       "19               Utah Jazz  SALT LAKE CITY            Utah   UT   910   \n",
       "20         Detroit Pistons         DETROIT        Michigan   MI   900   \n",
       "21          Denver Nuggets          DENVER        Colorado   CO   890   \n",
       "22           Atlanta Hawks         ATLANTA         Georgia   GA   885   \n",
       "23          Indiana Pacers    INDIANAPOLIS         Indiana   IN   880   \n",
       "24      Philadelphia 76ers    PHILADELPHIA    Pennsylvania   PA   800   \n",
       "25       Memphis Grizzlies         MEMPHIS       Tennessee   TN   790   \n",
       "26         Milwaukee Bucks       MILWAUKEE       Wisconsin   WI   785   \n",
       "27       Charlotte Hornets       CHARLOTTE  North Carolina   NC   780   \n",
       "28  Minnesota Timberwolves     MINNEAPOLIS       Minnesota   MN   770   \n",
       "29    New Orleans Pelicans     NEW ORLEANS       Louisiana   LA   750   \n",
       "\n",
       "    Population  Per Capita Income  Average Rent  Median Household Income  \n",
       "0    8622698.0            60991.0        1556.9                  88988.9  \n",
       "1    3999759.0            42042.0        1055.7                  46232.6  \n",
       "2     817539.0            56259.8        1480.8                  80370.7  \n",
       "3    2690705.0            37423.4         966.3                  56087.7  \n",
       "4     685094.0            55031.6        1320.8                  67972.0  \n",
       "5    3999760.0            42042.0        1055.7                  46232.6  \n",
       "6    2600812.0            26437.3        1019.5                  49367.5  \n",
       "7    2990053.0            30449.1         736.8                  53997.2  \n",
       "8    1427050.0            30534.3         749.2                  50097.9  \n",
       "9     396698.0            21467.1         561.2                  39630.4  \n",
       "10    463347.0            24532.0        1031.9                  49972.1  \n",
       "11   1632230.0            25156.2         741.5                  53011.5  \n",
       "12   2731571.0            30089.0         847.0                  40553.0  \n",
       "13   1626078.0            25993.0         778.5                  50588.9  \n",
       "14    501901.0            25994.3         870.8                  49579.8  \n",
       "15    647805.0            31394.9         773.0                  54586.0  \n",
       "16    649550.0            26923.0         621.3                  49832.9  \n",
       "17    693972.0            38207.3         963.8                  64575.2  \n",
       "18    277173.0            25463.2         879.8                  49967.3  \n",
       "19    200544.0            26925.3         808.2                  52353.6  \n",
       "20    670114.0            16050.7         546.4                  27362.3  \n",
       "21    704621.0            32467.0         826.8                  55145.5  \n",
       "22    486290.0            32860.3         750.4                  51576.2  \n",
       "23    920374.0            27422.8         716.5                  51112.2  \n",
       "24   1571585.0            26259.0         769.6                  43953.9  \n",
       "25    718904.0            22829.9         607.5                  43144.3  \n",
       "26    595351.0            25004.9         688.3                  43292.6  \n",
       "27    850031.0            33659.9         745.7                  57192.2  \n",
       "28    422331.0            34581.0         871.5                  63135.0  \n",
       "29    395474.0            26741.8         753.1                  38442.6  "
      ]
     },
     "execution_count": 9,
     "metadata": {},
     "output_type": "execute_result"
    }
   ],
   "source": [
    "# Merge NBA valuation data and Census data by City name\n",
    "\n",
    "valuation = pd.merge(team_valuations, city_summary, how=\"left\", on=[\"City\"])\n",
    "\n",
    "# Population Correction (source -  Wikipedia)\n",
    "valuation.loc[0,'Population'] = 8622698\n",
    "valuation.loc[1,'Population'] = 3999759\n",
    "valuation.loc[4,'Population'] = 685094\n",
    "valuation.loc[5,'Population'] = 3999760\n",
    "valuation.loc[9,'Population'] = 396698\n",
    "valuation.loc[10,'Population'] = 463347\n",
    "valuation.loc[12,'Population'] = 2731571\n",
    "valuation.loc[13,'Population'] = 1626078\n",
    "valuation.loc[14,'Population'] = 501901\n",
    "valuation.loc[15,'Population'] = 647805\n",
    "valuation.loc[17,'Population'] = 693972\n",
    "valuation.loc[18,'Population'] = 277173\n",
    "valuation.loc[19,'Population'] = 200544\n",
    "valuation.loc[21,'Population'] = 704621\n",
    "valuation.loc[22,'Population'] = 486290\n",
    "valuation.loc[26,'Population'] = 595351\n",
    "valuation.loc[28,'Population'] = 422331\n",
    "\n",
    "# Per Capita income corrections (incl Toronto)\n",
    "valuation.loc[0,'Per Capita Income'] = 60991\n",
    "valuation.loc[1,'Per Capita Income'] = 42042\n",
    "valuation.loc[5,'Per Capita Income'] = 42042\n",
    "valuation.loc[12,'Per Capita Income'] = 30089\n",
    "\n",
    "valuation.loc[12,'Average Rent'] = 847\n",
    "\n",
    "valuation.head(30)"
   ]
  },
  {
   "cell_type": "markdown",
   "metadata": {},
   "source": [
    "#### <font color = blue> Google Maps API Analysis for Teams"
   ]
  },
  {
   "cell_type": "code",
   "execution_count": 10,
   "metadata": {},
   "outputs": [],
   "source": [
    "lat, lon = [], []\n",
    "cities = valuation['City']\n",
    "for city in cities:\n",
    "    target_url = \"https://maps.googleapis.com/maps/api/geocode/json?\" \\\n",
    "    \"address=%s&key=%s\" % (city, gkey)\n",
    "    geo_data = requests.get(target_url).json()\n",
    "    lat.append(geo_data[\"results\"][0][\"geometry\"][\"location\"][\"lat\"])\n",
    "    lon.append(geo_data[\"results\"][0][\"geometry\"][\"location\"][\"lng\"])"
   ]
  },
  {
   "cell_type": "markdown",
   "metadata": {},
   "source": [
    "#### <font color = blue> Configure Gmaps API"
   ]
  },
  {
   "cell_type": "code",
   "execution_count": 11,
   "metadata": {},
   "outputs": [],
   "source": [
    "# Configure gmaps with API key\n",
    "gmaps.configure(api_key=gkey)\n",
    "\n",
    "# Store 'Lat' and 'Lng' into  locations \n",
    "locations = pd.DataFrame({\"Lat\": lat, \"Lon\": lon})\n",
    "\n",
    "team_val = valuation[\"2017\"].astype(float)"
   ]
  },
  {
   "cell_type": "markdown",
   "metadata": {},
   "source": [
    "#### <font color = blue> Generate Heatmap Analysis"
   ]
  },
  {
   "cell_type": "code",
   "execution_count": 12,
   "metadata": {},
   "outputs": [],
   "source": [
    "\n",
    "# Create a Heatmap layer# Create \n",
    "fig = gmaps.figure()\n",
    "\n",
    "heat_layer = gmaps.heatmap_layer(locations, weights=team_val, \n",
    "                                 dissipating=False, max_intensity=1000,\n",
    "                                 point_radius = 1.5)\n",
    "\n",
    "# Adjust heat_layer setting to help with heatmap dissipating on zoom\n",
    "heat_layer.dissipating = False\n",
    "heat_layer.max_intensity = 1000\n",
    "heat_layer.point_radius = 1.5\n",
    "\n",
    "# City layer\n",
    "city_layer = gmaps.symbol_layer(locations, fill_color='rgba(100, 100, 0, 0.2)',\n",
    "                                stroke_color='rgba(0, 0, 150, 0.5)', scale=2)"
   ]
  },
  {
   "cell_type": "code",
   "execution_count": 13,
   "metadata": {},
   "outputs": [
    {
     "data": {
      "application/vnd.jupyter.widget-view+json": {
       "model_id": "49eb904d6ba146588167c08cd477e137",
       "version_major": 2,
       "version_minor": 0
      },
      "text/plain": [
       "Figure(layout=FigureLayout(height='420px'))"
      ]
     },
     "metadata": {},
     "output_type": "display_data"
    }
   ],
   "source": [
    "# Create a combined map\n",
    "fig = gmaps.figure()\n",
    "\n",
    "fig.add_layer(heat_layer)\n",
    "fig.add_layer(city_layer)\n",
    "\n",
    "fig"
   ]
  },
  {
   "cell_type": "markdown",
   "metadata": {},
   "source": [
    "## Census Population vs Team Valuation"
   ]
  },
  {
   "cell_type": "code",
   "execution_count": 14,
   "metadata": {},
   "outputs": [],
   "source": [
    "# With NYC\n",
    "x = valuation['Population']\n",
    "y = valuation['2017'].astype(float)\n",
    "\n",
    "x1 = valuation['Per Capita Income']\n",
    "y1 = valuation['2017'].astype(float)\n",
    "\n",
    "x2 = valuation['Average Rent']\n",
    "y2 = valuation['2017'].astype(float)\n",
    "\n",
    "# Clean data from NYC\n",
    "valuation_wo_nyc = valuation.drop(valuation.index[0])\n",
    "\n",
    "x3 = valuation_wo_nyc['Per Capita Income']\n",
    "y3 = valuation_wo_nyc['2017'].astype(float)\n",
    "\n",
    "x4 = valuation_wo_nyc['Average Rent']\n",
    "y4 = valuation_wo_nyc['2017'].astype(float)"
   ]
  },
  {
   "cell_type": "code",
   "execution_count": 15,
   "metadata": {},
   "outputs": [
    {
     "data": {
      "image/png": "[encoded data removed]",
      "text/plain": [
       "<Figure size 432x288 with 1 Axes>"
      ]
     },
     "metadata": {},
     "output_type": "display_data"
    }
   ],
   "source": [
    "# Valuation vs Population# Valua \n",
    "\n",
    "plt.scatter(x, y, marker=\"o\", s=60, facecolors = \"darkblue\")\n",
    "\n",
    "# Add trendline\n",
    "z = np.polyfit(x, y, 1)\n",
    "p = np.poly1d(z)\n",
    "plt.plot(x,p(x),\"r:\")\n",
    "\n",
    "# Add other captions on plot\n",
    "plt.title(f\"Valuation of Teams vs Population\", size = 20)\n",
    "plt.xlabel(\"Population\", size = 16)\n",
    "plt.ylabel(\"Valuation in mil of $\", size = 16)\n",
    "plt.text(700000, 2700, \"SF\", fontsize=14, color = \"red\")\n",
    "plt.text(2300000, 2600, \"Chicago\", fontsize=14, color = \"red\")\n",
    "plt.text(3900000, 3070, \"LA\", fontsize=14, color = \"red\")\n",
    "plt.text(300000, 2300, \"Boston\", fontsize=14, color = \"red\")\n",
    "plt.text(8500000, 3100, \"NYC\", fontsize=14, color = \"red\")\n",
    "\n",
    "plt.grid()"
   ]
  },
  {
   "cell_type": "markdown",
   "metadata": {},
   "source": [
    "## <font color = Green> Results: City Population vs Team Valuation Analysis\n",
    "\n",
    "> ### We can conclude that there is no visible correlation between Population and team valuation. \n",
    "> ### The Scatter Plot trend line is mostly driven by New York - if this outlier is excluded from calculations, there is no visible correlation. This makes sense because densely populated cities with low income population are less likely to spend disposable income on tickets, gear, and other league merchandise. "
   ]
  },
  {
   "cell_type": "markdown",
   "metadata": {},
   "source": [
    "## Census Per Capita Income vs Team Valuation"
   ]
  },
  {
   "cell_type": "code",
   "execution_count": 16,
   "metadata": {},
   "outputs": [
    {
     "data": {
      "image/png": "[encoded data removed]",
      "text/plain": [
       "<Figure size 1080x360 with 2 Axes>"
      ]
     },
     "metadata": {},
     "output_type": "display_data"
    }
   ],
   "source": [
    "fig, (ax1,ax2) = plt.subplots(1,2, figsize=(15,5))  # 1 row, 2 columns\n",
    "\n",
    "# All cities\n",
    "\n",
    "plt.subplot(1,2,1)\n",
    "plt.scatter(x1, y1, marker=\"o\", s=60, facecolors = \"darkblue\")\n",
    "\n",
    "# Add trendline\n",
    "z1 = np.polyfit(x1, y1, 2)\n",
    "p1 = np.poly1d(z1)\n",
    "plt.plot(x1,p1(x1),\"r:\")\n",
    "\n",
    "# Add other captions on plot\n",
    "plt.title(f\"Valuation of Teams vs Per Capita Income\", size = 18)\n",
    "plt.xlabel(\"Per Capita Income\", size = 16)\n",
    "plt.ylabel(\"Valuation in mil of $\", size = 16)\n",
    "plt.text(60000, 3140, \"NYC\", fontsize=14, color = \"red\")\n",
    "plt.text(41000, 3070, \"LA\", fontsize=14, color = \"red\")\n",
    "plt.text(55000, 2700, \"SF\", fontsize=14, color = \"red\")\n",
    "plt.text(34000, 2300, \"Chicago\", fontsize=14, color = \"red\")\n",
    "plt.grid()\n",
    "\n",
    "# Without NYC\n",
    "\n",
    "plt.subplot(1,2,2)\n",
    "plt.scatter(x3, y3, marker=\"o\", s=60, facecolors = \"darkblue\")\n",
    "\n",
    "# Add trendline\n",
    "z3 = np.polyfit(x3, y3, 2)\n",
    "p3 = np.poly1d(z3)\n",
    "plt.plot(x3,p3(x3),\"r:\")\n",
    "\n",
    "plt.title(f\"Valuation vs Per Capita Income excl. NYC\", size = 18)\n",
    "plt.xlabel(\"Per Capita Income\", size = 16)\n",
    "plt.ylabel(\"Valuation in mil of $\", size = 16)\n",
    "plt.text(41000, 3050, \"LA\", fontsize=14, color = \"red\")\n",
    "plt.text(41000, 2050, \"LA\", fontsize=14, color = \"red\")\n",
    "plt.text(55000, 2700, \"SF\", fontsize=14, color = \"red\")\n",
    "plt.text(34500, 2370, \"Chicago\", fontsize=14, color = \"red\")\n",
    "plt.text(52500, 2250, \"Boston\", fontsize=14, color = \"red\")\n",
    "plt.grid()\n",
    "\n",
    "plt.tight_layout()"
   ]
  },
  {
   "cell_type": "markdown",
   "metadata": {},
   "source": [
    "## <font color = Green> Results: City Per Capita Income vs Team Valuation Analysis\n",
    "\n",
    "> ### There are visible tendencies displayed in these scatter plots but nothing that definitively shows correlation between the two parameters. \n",
    "> ### This could be a result of the \"per capita\" aspect of the data - it includes children and other household dependents who don't partake in the spending budget.\n",
    "> ### Excluding New York: we can see a breakout of two groups - SF, LA, Boston, Chicago and the rest of the NBA teams. "
   ]
  },
  {
   "cell_type": "markdown",
   "metadata": {},
   "source": [
    "## Census Average Rent vs Team Valuation"
   ]
  },
  {
   "cell_type": "code",
   "execution_count": 17,
   "metadata": {},
   "outputs": [
    {
     "data": {
      "image/png": "[encoded data removed]",
      "text/plain": [
       "<Figure size 1080x360 with 2 Axes>"
      ]
     },
     "metadata": {},
     "output_type": "display_data"
    }
   ],
   "source": [
    "fig, (ax1,ax2) = plt.subplots(1,2, figsize=(15,5))  # 1 row, 2 columns\n",
    "\n",
    "# Average Rent - All cities\n",
    "plt.subplot(1,2,1)\n",
    "plt.scatter(x2, y2, marker=\"o\", s=60, facecolors = \"darkblue\")\n",
    "\n",
    "# Add trendline\n",
    "z2 = np.polyfit(x2, y2, 1)\n",
    "p2 = np.poly1d(z2)\n",
    "plt.plot(x2,p2(x2),\"r:\")\n",
    "\n",
    "# Add other captions on plot\n",
    "plt.title(f\"Valuation vs Average Rent\", size = 16)\n",
    "plt.xlabel(\"Average Rent\", size = 14)\n",
    "plt.ylabel(\"Valuation in mil of $\", size = 14)\n",
    "plt.text(1530, 3100, \"NYC\", fontsize=14, color = \"red\")\n",
    "plt.text(1020, 3070, \"LA\", fontsize=14, color = \"red\")\n",
    "plt.text(1450, 2700, \"SF\", fontsize=14, color = \"red\")\n",
    "plt.text(900, 2300, \"Chicago\", fontsize=14, color = \"red\")\n",
    "plt.grid()\n",
    "\n",
    "# Without NYC\n",
    "\n",
    "plt.subplot(1,2,2)\n",
    "plt.scatter(x4, y4, marker=\"o\", s=60, facecolors = \"darkblue\")\n",
    "\n",
    "# Add trendline\n",
    "#z4 = np.polyfit(x4, y4, 2)\n",
    "#p4 = np.poly1d(z4)\n",
    "#plt.plot(x4,p4(x4),\"r:\")\n",
    "\n",
    "# Add other captions on plot\n",
    "plt.title(f\"Valuation vs Average Rent excl. NYC\", size = 16)\n",
    "plt.xlabel(\"Average Rent\", size = 14)\n",
    "plt.ylabel(\"Valuation in mil of $\", size = 14)\n",
    "plt.text(1030, 3050, \"LA\", fontsize=14, color = \"red\")\n",
    "plt.text(1445, 2690, \"SF\", fontsize=14, color = \"red\")\n",
    "plt.text(900, 2380, \"Chicago\", fontsize=14, color = \"red\")\n",
    "plt.text(1250, 2230, \"Boston\", fontsize=14, color = \"red\")\n",
    "plt.grid()"
   ]
  },
  {
   "cell_type": "markdown",
   "metadata": {},
   "source": [
    "## <font color = Green> Results: City Average Rent vs Team Valuation Analysis\n",
    "\n",
    "> ### The scatter plots display the median contract rent and the team valuations. It can be seen that the cities with higher median rents tend to be more willing to spend disposable income on NBA tickets, merchandise, and other factors that impact a team's valuation."
   ]
  },
  {
   "cell_type": "markdown",
   "metadata": {},
   "source": [
    "# <font color = red> Market Rank vs Team Valuation Analysis </font>\n",
    "***"
   ]
  },
  {
   "cell_type": "code",
   "execution_count": null,
   "metadata": {},
   "outputs": [],
   "source": [
    "df = pd.read_csv(\"Historical_Valuations_TB.csv\")\n",
    "df.head()\n",
    "df.dtypes"
   ]
  },
  {
   "cell_type": "code",
   "execution_count": null,
   "metadata": {},
   "outputs": [],
   "source": [
    "#df.boxplot([\"Valuation\"], by=\"Market_Size\", figsize=(20, 10))\n",
    "\n",
    "pkmn_type_colors = ['#78C850',  # Grass\n",
    "                    '#F08030',  # Fire\n",
    "                    '#6890F0',  # Water\n",
    "                    '#A8B820',  # Bug\n",
    "                    '#A8A878',  # Normal\n",
    "                    '#A040A0',  # Poison\n",
    "                    '#F8D030',  # Electric\n",
    "                    '#E0C068',  # Ground\n",
    "                    '#EE99AC',  # Fairy\n",
    "                    '#C03028',  # Fighting\n",
    "                    '#F85888',  # Psychic\n",
    "                    '#B8A038',  # Rock\n",
    "                    '#705898',  # Ghost\n",
    "                    '#98D8D8',  # Ice\n",
    "                    '#7038F8',  # Dragon\n",
    "                   ]\n",
    "#legend = [\"2001\", \"2002\", \"2003\", \"2004\", \"2005\",\"2006\",\"2007\", \"2008\", \"2009\",\"2010\",\"2011\", \"2012\", \"2013\",\"2014\",\"2015\",\"2016\",\"2017\"]\n",
    "fig, ax = plt.subplots()\n",
    "# the size of A4 paper\n",
    "fig.set_size_inches(12, 10)\n",
    "bplot = sns.boxplot(y='Valuation', x='Market_Size', \n",
    "                 data=df, \n",
    "                 width=1,\n",
    "                 hue=\"Year\", palette = pkmn_type_colors)\n",
    "#plt.figure(figsize=(15,8))\n",
    "plt.legend(bbox_to_anchor=(1.05, 1), loc=2, borderaxespad=0.)\n",
    "ax.grid(True, which='both')\n",
    "\n",
    "plt.savefig('Valuation_Histogram.png')"
   ]
  },
  {
   "cell_type": "code",
   "execution_count": null,
   "metadata": {},
   "outputs": [],
   "source": [
    "df_market = pd.pivot_table(df,index=[\"Market_Size\", \"Year\"],values=[\"Valuation\"],aggfunc=np.mean)\n",
    "df_market\n",
    "#pd.pivot_table(df,index=[\"Manager\",\"Rep\"],values=[\"Price\"],aggfunc=np.sum)"
   ]
  },
  {
   "cell_type": "code",
   "execution_count": null,
   "metadata": {},
   "outputs": [],
   "source": [
    "fig, ax = plt.subplots()\n",
    "# the size of A4 paper\n",
    "fig.set_size_inches(12, 10)\n",
    "sns.barplot(x=\"Year\", y=\"Valuation\", data=df_market.reset_index(), hue=\"Market_Size\")\n",
    "plt.xlabel(\"Year\" , size = 15)\n",
    "plt.ylabel(\"Average Valuation (millions $)\" , size = 15)\n",
    "plt.title(\"Team Market Group vs Average Team Valuation\" , size = 23)\n",
    "plt.legend(bbox_to_anchor = (1 , .9) , loc = 2 , borderaxespad = 0. , title = \"Season Year\")\n",
    "ax.grid(True , which = \"Both\")\n",
    "#sns.barplot(x='FinYear', y='Amount', data=invYr.reset_index())\n",
    "#sns.barplot(x=invYr.index, y=invYr.Amount)\n",
    "#ns.barplot(x=\"alcohol\", y=\"abbrev\", data=crashes,\n",
    "           # label=\"Alcohol-involved\", color=\"b\")"
   ]
  },
  {
   "cell_type": "code",
   "execution_count": null,
   "metadata": {},
   "outputs": [],
   "source": [
    "df_team_5_big = df.loc[df['Item'].isin(['Golden State Warriors','New York Knicks','San Antonio Spurs','Boston Celtics','Los Angeles Lakers','Houston Rockets','Cleveland Cavaliers'])]\n",
    "df_team_5_big2 = df_team_5_big[(df_team_5_big['Year']>=2012)] \n",
    "\n",
    "df_team_5_big2\n",
    "df_team_5_big2.head()"
   ]
  },
  {
   "cell_type": "code",
   "execution_count": null,
   "metadata": {},
   "outputs": [],
   "source": [
    "fig, ax = plt.subplots()\n",
    "\n",
    "fig.set_size_inches(12, 10)\n",
    "palette = ['#1C86EE', '#D15FEE', '#FF4500', '#FFB90F',  '#00EE76','#8B0000', '#696969']\n",
    "ax = sns.pointplot(x=\"Year\", y=\"Valuation\",hue=\"Item\", data=df_team_5_big2, linestyles=[\":\", \":\",\":\",\"-\", \"-\",\"--\",\"--\"], palette=palette)\n",
    "\n",
    "plt.xlabel(\"Year\" , size = 15)\n",
    "plt.ylabel(\"Team Valuation (millions $)\" , size = 15)\n",
    "plt.title(\"Big (dotted) vs Mid (line) vs Small (dash) Team Valuation Line Plot\" , size = 23)\n",
    "plt.legend(bbox_to_anchor = (1 , .9) , loc = 2 , borderaxespad = 0. , title = \"Teams\")\n",
    "ax.grid(True , which = \"Both\")"
   ]
  },
  {
   "cell_type": "markdown",
   "metadata": {},
   "source": [
    "## Import Files"
   ]
  },
  {
   "cell_type": "markdown",
   "metadata": {},
   "source": [
    "#### <font color = blue> Import Original Historical Team Valuation XLS File"
   ]
  },
  {
   "cell_type": "code",
   "execution_count": null,
   "metadata": {},
   "outputs": [],
   "source": [
    "FilePath = \"Resources/TeamValuations_orig.csv\"\n",
    "\n",
    "TeamVal_orig_DF = pd.read_csv(FilePath)\n",
    "\n",
    "# print(f'Col Types:\\n{TeamVal_orig_DF.dtypes}')"
   ]
  },
  {
   "cell_type": "markdown",
   "metadata": {},
   "source": [
    "#### <font color = blue> Import Denormalized CSV File generated using Tableu plug-in"
   ]
  },
  {
   "cell_type": "code",
   "execution_count": null,
   "metadata": {
    "scrolled": true
   },
   "outputs": [],
   "source": [
    "FilePath = \"Resources/TeamValuations_denormalized_for_BoxPlot.csv\"\n",
    "\n",
    "TeamVal_deNorm_DF = pd.read_csv(FilePath)\n",
    "\n",
    "# print(f'Col Types:\\n{TeamVal_deNorm_DF.dtypes}')"
   ]
  },
  {
   "cell_type": "markdown",
   "metadata": {},
   "source": [
    "#### <font color = blue> Clean Data"
   ]
  },
  {
   "cell_type": "code",
   "execution_count": null,
   "metadata": {},
   "outputs": [],
   "source": [
    "TeamVal_orig_DF.fillna(0 , inplace = True)\n",
    "TeamVal_deNorm_DF.fillna(0 , inplace = True)"
   ]
  },
  {
   "cell_type": "code",
   "execution_count": null,
   "metadata": {},
   "outputs": [],
   "source": [
    "TeamVal_orig_DF.head(10)"
   ]
  },
  {
   "cell_type": "code",
   "execution_count": null,
   "metadata": {},
   "outputs": [],
   "source": [
    "TeamVal_deNorm_DF.tail(10)"
   ]
  },
  {
   "cell_type": "code",
   "execution_count": null,
   "metadata": {},
   "outputs": [],
   "source": [
    "# TeamVal_deNorm_DF.head(10)"
   ]
  },
  {
   "cell_type": "markdown",
   "metadata": {},
   "source": [
    "# <font color = red> Market Rank vs Team Valuation Analysis </font>\n",
    "***"
   ]
  },
  {
   "cell_type": "markdown",
   "metadata": {},
   "source": [
    "### <font color = blue> Run ANOVA Test:\n",
    "* $H_0$: Team valuation means across the different Market Ranks (Big, Med, Small) are NOT statistically different.\n",
    "* $H$: Team valuation means across the different Market Ranks (Big, Med, Small) are statistically diffent - market size matters."
   ]
  },
  {
   "cell_type": "code",
   "execution_count": null,
   "metadata": {},
   "outputs": [],
   "source": [
    "#####################################################\n",
    "# Extract Valuation values for each Market Size group\n",
    "#####################################################\n",
    "\n",
    "Big_Val   = TeamVal_deNorm_DF[TeamVal_deNorm_DF[\"Market_Size\"] == \"Big\"][\"Valuation\"]\n",
    "\n",
    "Mid_Val   = TeamVal_deNorm_DF[TeamVal_deNorm_DF[\"Market_Size\"] == \"Mid\"][\"Valuation\"]\n",
    "\n",
    "Small_Val = TeamVal_deNorm_DF[TeamVal_deNorm_DF[\"Market_Size\"] == \"Small\"][\"Valuation\"]"
   ]
  },
  {
   "cell_type": "code",
   "execution_count": null,
   "metadata": {},
   "outputs": [],
   "source": [
    "########################\n",
    "# Perform a 1-way ANOVA\n",
    "########################\n",
    "\n",
    "ANOVA_Test = stats.f_oneway(Big_Val , Mid_Val , Small_Val)\n",
    "ANOVA_Test"
   ]
  },
  {
   "cell_type": "markdown",
   "metadata": {},
   "source": [
    "### <font color = blue> Generate Time Series Line Plot of Team Valuations"
   ]
  },
  {
   "cell_type": "code",
   "execution_count": null,
   "metadata": {},
   "outputs": [],
   "source": [
    "Trans_TeamValuation_DF = TeamVal_orig_DF.T\n",
    "# Trans_TeamValuation_DF.head(5)"
   ]
  },
  {
   "cell_type": "code",
   "execution_count": null,
   "metadata": {},
   "outputs": [],
   "source": [
    "# Transpose Data Frame to make Year Columns and Team Rows\n",
    "\n",
    "Trans_TeamValuation_DF.columns = Trans_TeamValuation_DF.iloc[0]\n",
    "Trans_TeamValuation_DF = Trans_TeamValuation_DF.reindex(Trans_TeamValuation_DF.index.drop(\"Year\"))\n",
    "Trans_TeamValuation_DF.columns = Trans_TeamValuation_DF.columns.values\n",
    "Trans_TeamValuation_DF.index = [int(x) for x in Trans_TeamValuation_DF.index.values]"
   ]
  },
  {
   "cell_type": "code",
   "execution_count": null,
   "metadata": {},
   "outputs": [],
   "source": [
    "# Plot the results\n",
    "%matplotlib inline\n",
    "Trans_TeamValuation_DF.plot()\n",
    "plt.grid()\n",
    "\n",
    "plt.legend(loc = \"center left\" , bbox_to_anchor = (1.2, .5) , title = \"NBA Team\")\n",
    "plt.title(\"30 NBA Team Valuations\" , size = 20)\n",
    "plt.xlabel(\"Year\", size = 18)\n",
    "plt.ylabel(\"Team Valuations (million $)\" , size = 15)\n",
    "plt.gcf().set_size_inches(10 , 8 , forward = True)"
   ]
  },
  {
   "cell_type": "markdown",
   "metadata": {},
   "source": [
    "## <font color = Green> Results: Market Rank vs Team Valuation Analysis\n",
    "\n",
    "> ### ANOVA Result:  p-value = .000000507 \n",
    ">#### Interpretation: \n",
    "<= .05: Reject Null Hypothesis H0\n",
    ">>Team valuation means across the different Market Ranks (Big, Med, Small) are statistically different."
   ]
  },
  {
   "cell_type": "markdown",
   "metadata": {},
   "source": [
    "# <font color = red> Market Size vs Team Attendance Analysis </font>\n",
    "***"
   ]
  },
  {
   "cell_type": "code",
   "execution_count": null,
   "metadata": {},
   "outputs": [],
   "source": [
    "df = pd.read_csv(\"Historical_Attendance.csv\")\n",
    "df.head()\n",
    "df.dtypes"
   ]
  },
  {
   "cell_type": "code",
   "execution_count": null,
   "metadata": {},
   "outputs": [],
   "source": [
    "dfyr = df[(df['Year'] >= 2013)]\n",
    "\n",
    "dfyr.head()"
   ]
  },
  {
   "cell_type": "code",
   "execution_count": null,
   "metadata": {},
   "outputs": [],
   "source": [
    "fig, ax = plt.subplots()\n",
    "fig.set_size_inches(15, 10)\n",
    "attendance = pd.pivot_table(df,index=[\"Market_Size\", \"Year\"],values=[\"Attendance\"], aggfunc=np.sum)\n",
    "attendance.head()\n",
    "attendance_df = attendance.unstack()\n",
    "attendance_df.head()\n",
    "comma_fmt = FuncFormatter(lambda Attendance, p: format(int(Attendance), ','))\n",
    "ax = sns.heatmap(attendance_df, cmap=\"PiYG\",linewidths=1 ,robust=True,linecolor=\"black\", cbar_kws={'label': 'Attendance Color Bar','format':comma_fmt}, annot_kws={\"size\": 20},xticklabels=(\"2001\", \"2002\", \"2003\", \"2004\", \"2005\",\"2006\",\"2007\", \"2008\", \"2009\",\"2010\",\"2011\", \"2012\", \"2013\",\"2014\",\"2015\",\"2016\",\"2017\" )) \n",
    "\n",
    "ax.set( ylabel=\"Market Size\",\n",
    "       xlabel=\"Attendance Heatmap from 2001 - 2017\")\n",
    "\n",
    "ax.yaxis.label.set_size(30)\n",
    "ax.xaxis.label.set_size(30)\n",
    "plt.savefig('Attendance_Heatmap.png')"
   ]
  },
  {
   "cell_type": "code",
   "execution_count": null,
   "metadata": {},
   "outputs": [],
   "source": [
    "df_team_5_big = df.loc[df['Item'].isin(['Golden State Warriors','New York Knicks','San Antonio Spurs','Boston Celtics','Los Angeles Lakers','Houston Rockets','Cleveland Cavaliers'])]\n",
    "df_team_5_big2 = df_team_5_big[(df_team_5_big['Year']>=2012)] \n",
    "\n",
    "df_team_5_big2\n",
    "df_team_5_big2.head()"
   ]
  },
  {
   "cell_type": "code",
   "execution_count": null,
   "metadata": {},
   "outputs": [],
   "source": [
    "fig, ax = plt.subplots()\n",
    "fig.set_size_inches(15, 10)\n",
    "\n",
    "attendance_team = pd.pivot_table(df_team_5_big2,index=[\"Item\", \"Year\"],values=[\"Attendance\"], aggfunc=np.sum)\n",
    "attendance_team.head()\n",
    "attendance_team_df = attendance_team.unstack()\n",
    "comma_fmt = FuncFormatter(lambda Attendance, p: format(int(Attendance), ','))\n",
    "ax = sns.heatmap(attendance_team_df, cmap=\"YlOrRd\",linewidths=1 ,robust=True,linecolor=\"black\", cbar_kws={'label': 'Attendance Color Bar','format':comma_fmt}, annot_kws={\"size\": 20},xticklabels=( \"2012\", \"2013\",\"2014\",\"2015\",\"2016\",\"2017\" )) \n",
    "\n",
    "ax.set( ylabel=\"Team\",\n",
    "       xlabel=\"Attendance Heatmap from 2012 - 2017\")\n",
    "\n",
    "ax.yaxis.label.set_size(30)\n",
    "ax.xaxis.label.set_size(30)\n",
    "plt.savefig('Attendance_team_Heatmap.png')"
   ]
  },
  {
   "cell_type": "markdown",
   "metadata": {},
   "source": [
    "# <font color = red> Team Market Ranks vs Twitter Popularity Analysis </font>\n",
    "***"
   ]
  },
  {
   "cell_type": "markdown",
   "metadata": {},
   "source": [
    "### <font color = blue> Extract Twitter Follower Counts for each team and Run Vader Analysis"
   ]
  },
  {
   "cell_type": "code",
   "execution_count": null,
   "metadata": {},
   "outputs": [],
   "source": [
    "################\n",
    "# Import File\n",
    "################\n",
    "FilePath = \"Resources/NBA_TeamMarketSize_orig.xlsx\"\n",
    "\n",
    "NBA_MarketRank_DF = pd.read_excel(FilePath)"
   ]
  },
  {
   "cell_type": "code",
   "execution_count": null,
   "metadata": {},
   "outputs": [],
   "source": [
    "###################################\n",
    "# Setup Tweepy API Authentication\n",
    "###################################\n",
    "Authorization = tweepy.OAuthHandler(consumer_key , consumer_secret)\n",
    "Authorization.set_access_token(access_token , access_token_secret)\n",
    "apiRequests = tweepy.API(Authorization , parser = tweepy.parsers.JSONParser())"
   ]
  },
  {
   "cell_type": "code",
   "execution_count": null,
   "metadata": {},
   "outputs": [],
   "source": [
    "####################\n",
    "# Initialize Vader\n",
    "####################\n",
    "VaderSentimentAnalyzer = SentimentIntensityAnalyzer()"
   ]
  },
  {
   "cell_type": "code",
   "execution_count": null,
   "metadata": {},
   "outputs": [],
   "source": [
    "TeamNameList = []\n",
    "FollowerCountList = []\n",
    "\n",
    "CompoundList = []\n",
    "PositiveList = []\n",
    "NegativeList = []\n",
    "NeutralList = []\n",
    "TeamNameList_Sentiment = []"
   ]
  },
  {
   "cell_type": "code",
   "execution_count": null,
   "metadata": {},
   "outputs": [],
   "source": [
    "##########################################################\n",
    "# Extract Twitter Followers and Twitter Sentiments Scores\n",
    "##########################################################\n",
    "# Target User\n",
    "target_users = [\"Raptors\" , \"warriors\" , \"nuggets\" , \"okcthunder\" , \"PelicansNBA\" , \"dallasmavs\" , \\\n",
    "                \"Hornets\" , \"Lakers\" , \"nyknicks\" , \"Timberwolves\" , \"LAClippers\" , \"OrlandoMagic\" , \\\n",
    "                \"Pacers\" , \"cavs\" , \"HoustonRockets\" , \"BrooklynNets\" , \"Suns\" , \"spurs\" , \"utahjazz\" , \\\n",
    "                \"celtics\" , \"ATLHawks\" , \"DetroitPistons\" , \"chicagobulls\" , \"sixers\" , \"Bucks\" , \\\n",
    "                \"WashWizards\" , \"MiamiHEAT\" , \"memgrizz\" , \"trailblazers\" , \"SacramentoKings\"\n",
    "               ]\n",
    "\n",
    "# Loop through the Target Users\n",
    "# x: News Outlet\n",
    "for team in target_users:\n",
    "    # Get tweets from the home feed\n",
    "    UserTweets = apiRequests.user_timeline(team)\n",
    "\n",
    "    # Get follower count\n",
    "    TeamName = UserTweets[0][\"user\"][\"name\"]\n",
    "    FollowerCount = UserTweets[0][\"user\"][\"followers_count\"]\n",
    "    TeamNameList.append(TeamName)\n",
    "    FollowerCountList.append(FollowerCount)\n",
    "    \n",
    "    # Retrieve the last 100 Tweets for Target User\n",
    "    # y: page\n",
    "    for page in range(5): \n",
    "\n",
    "        # Get tweets from the home feed\n",
    "        UserTweets_2 = apiRequests.user_timeline(team , page = page)\n",
    "        \n",
    "        # Loop through tweets\n",
    "        # z: tweet\n",
    "        for tweet in UserTweets_2: \n",
    "            \n",
    "            \n",
    "#           # Run Vader Analysis on each tweet\n",
    "            CompoundScore = VaderSentimentAnalyzer.polarity_scores(tweet[\"text\"])[\"compound\"]\n",
    "            PositiveScore = VaderSentimentAnalyzer.polarity_scores(tweet[\"text\"])[\"pos\"]\n",
    "            NegativeScore = VaderSentimentAnalyzer.polarity_scores(tweet[\"text\"])[\"neg\"]\n",
    "            NeutralScore = VaderSentimentAnalyzer.polarity_scores(tweet[\"text\"])[\"neu\"] \n",
    "            \n",
    "#             print(NeutralScore)\n",
    "\n",
    "            # Append to the Sentiment list           \n",
    "\n",
    "            CompoundList.append(CompoundScore)\n",
    "            PositiveList.append(PositiveScore)\n",
    "            NegativeList.append(NegativeScore)\n",
    "            NeutralList.append(NeutralScore)\n",
    "            TeamNameList_Sentiment.append(TeamName)\n",
    "#             print(f'{tweet[\"user\"][\"name\"]}{CompoundScore}{PositiveScore}{NegativeScore}{NeutralScore}')"
   ]
  },
  {
   "cell_type": "code",
   "execution_count": null,
   "metadata": {},
   "outputs": [],
   "source": [
    "# print(len(CompoundList))\n",
    "# print(len(PositiveList))\n",
    "# print(len(NegativeList))\n",
    "# print(len(NeutralList))\n",
    "# print(len(TeamNameList_Sentiment))"
   ]
  },
  {
   "cell_type": "markdown",
   "metadata": {},
   "source": [
    "### <font color = blue> Run Two ANOVA Tests:\n",
    "* $H_0$: Teams in the Big Markets do NOT have more followers or higher sentiment scores than the Smaller Markets.\n",
    "* $H$: Teams in the Big Markets have more followers or higher sentiment score than the Smaller Markets."
   ]
  },
  {
   "cell_type": "code",
   "execution_count": null,
   "metadata": {},
   "outputs": [],
   "source": [
    "###################################\n",
    "# Generate Data Frames from Lists\n",
    "###################################\n",
    "TwitterSentiments_DF = pd.DataFrame({\"Team_Name\"       : TeamNameList_Sentiment\n",
    "                                    ,\"Positive Score\"  : PositiveList\n",
    "                                    ,\"Negative Score\"  : NegativeList                           \n",
    "                                    ,\"Neutral Score\"   : NeutralList\n",
    "                                    ,\"Compound Score\"  : CompoundList\n",
    "                                    })\n",
    "\n",
    "Twitter_DF = pd.DataFrame({\"Team_Name\"              : TeamNameList\n",
    "                          ,\"Twitter Follower Count\" : FollowerCountList\n",
    "                          })"
   ]
  },
  {
   "cell_type": "code",
   "execution_count": null,
   "metadata": {},
   "outputs": [],
   "source": [
    "##############################################\n",
    "# Lower Case conversion to merge on Team_Name\n",
    "##############################################\n",
    "Twitter_DF[\"Team_Name\"] = Twitter_DF[\"Team_Name\"].str.lower()\n",
    "TwitterSentiments_DF[\"Team_Name\"] = TwitterSentiments_DF[\"Team_Name\"].str.lower()\n",
    "NBA_MarketRank_DF[\"Team_Name\"] = NBA_MarketRank_DF[\"Team_Name\"].str.lower()"
   ]
  },
  {
   "cell_type": "code",
   "execution_count": null,
   "metadata": {},
   "outputs": [],
   "source": [
    "Twitter_DF[\"Team_Name\"].replace(\"okc thunder\" , \"oklahoma city thunder\" , inplace = True)\n",
    "Twitter_DF[\"Team_Name\"].replace(\"timberwolves\" , \"minnesota timberwolves\" , inplace = True)\n",
    "Twitter_DF[\"Team_Name\"].replace(\"la clippers\" , \"los angeles clippers\" , inplace = True)\n",
    "Twitter_DF[\"Team_Name\"].replace(\"trail blazers\" , \"portland trailblazers\" , inplace = True)\n",
    "\n",
    "TwitterSentiments_DF[\"Team_Name\"].replace(\"okc thunder\" , \"oklahoma city thunder\" , inplace = True)\n",
    "TwitterSentiments_DF[\"Team_Name\"].replace(\"timberwolves\" , \"minnesota timberwolves\" , inplace = True)\n",
    "TwitterSentiments_DF[\"Team_Name\"].replace(\"la clippers\" , \"los angeles clippers\" , inplace = True)\n",
    "TwitterSentiments_DF[\"Team_Name\"].replace(\"trail blazers\" , \"portland trailblazers\" , inplace = True)"
   ]
  },
  {
   "cell_type": "code",
   "execution_count": null,
   "metadata": {},
   "outputs": [],
   "source": [
    "####################\n",
    "# Join Data Frames\n",
    "####################\n",
    "Twitter_DF = Twitter_DF.merge(NBA_MarketRank_DF, left_on='Team_Name', right_on='Team_Name', how='left')\n",
    "\n",
    "TwitterSentiments_DF = TwitterSentiments_DF.merge(Twitter_DF, left_on='Team_Name', right_on='Team_Name', how='left')"
   ]
  },
  {
   "cell_type": "code",
   "execution_count": null,
   "metadata": {},
   "outputs": [],
   "source": [
    "Big_DF = TwitterSentiments_DF.loc[TwitterSentiments_DF[\"Market_Size_Rank_Gp\"] == \"Big\"]\n",
    "Mid_DF = TwitterSentiments_DF.loc[TwitterSentiments_DF[\"Market_Size_Rank_Gp\"] == \"Mid\"]\n",
    "Small_DF = TwitterSentiments_DF.loc[TwitterSentiments_DF[\"Market_Size_Rank_Gp\"] == \"Small\"]"
   ]
  },
  {
   "cell_type": "code",
   "execution_count": null,
   "metadata": {},
   "outputs": [],
   "source": [
    "Big_Followers = Big_DF[\"Twitter Follower Count\"]/1000000\n",
    "Mid_Followers = Mid_DF[\"Twitter Follower Count\"]/1000000\n",
    "Small_Followers = Small_DF[\"Twitter Follower Count\"]/1000000\n",
    "\n",
    "Big_CompoundScore = Big_DF[\"Compound Score\"]\n",
    "Mid_CompoundScore = Mid_DF[\"Compound Score\"]\n",
    "Small_CompoundScore = Small_DF[\"Compound Score\"]"
   ]
  },
  {
   "cell_type": "code",
   "execution_count": null,
   "metadata": {},
   "outputs": [],
   "source": [
    "########################\n",
    "# Perform a 1-way ANOVA: Followers VS Group Rank\n",
    "########################\n",
    "ANOVA_Test = stats.f_oneway(Big_Followers , Mid_Followers , Small_Followers)\n",
    "ANOVA_Test"
   ]
  },
  {
   "cell_type": "code",
   "execution_count": null,
   "metadata": {},
   "outputs": [],
   "source": [
    "########################\n",
    "# Perform a 1-way ANOVA: Compound Vader Scores VS Group Rank\n",
    "########################\n",
    "ANOVA_Test = stats.f_oneway(Big_CompoundScore , Mid_CompoundScore , Small_CompoundScore)\n",
    "ANOVA_Test"
   ]
  },
  {
   "cell_type": "markdown",
   "metadata": {},
   "source": [
    "## <font color = Green> Results: Market Rank vs Twitter Popularity Analysis\n",
    "\n",
    "> ### Follower Count ANOVA Result:  p-value = 4.457795556035537 x 10^-12 \n",
    ">#### Interpretation: \n",
    "$<=$ .05:  Reject Null Hypothesis H0\n",
    ">>Teams in the Big markets tend to have more followers than the teams in Smaller markets.\n",
    "\n",
    "> ### Tweet Polarity ANOVA Result:  p-value = 0.29302671729991175\n",
    ">#### Interpretation: \n",
    "> $>$.05:  Accept Null Hypothesis H0\n",
    ">>Teams in the Big markets don't have more favoriable social media sentiment scores than the teams in Smaller markets."
   ]
  },
  {
   "cell_type": "markdown",
   "metadata": {},
   "source": [
    "### <font color = blue> Generate Scatter Plot to verify ANOVA Tests"
   ]
  },
  {
   "cell_type": "code",
   "execution_count": null,
   "metadata": {
    "scrolled": true
   },
   "outputs": [],
   "source": [
    "#############################\n",
    "# Generate a Scatter Plot\n",
    "#############################\n",
    "plt.scatter(Big_Followers , Big_CompoundScore , color = \"red\" ,\\\n",
    "            edgecolor = \"black\" , s = 100 , alpha = .9 , label = \"Big\")\n",
    "plt.scatter(Mid_Followers , Mid_CompoundScore , color = \"green\" ,\\\n",
    "            edgecolor = \"black\" , s = 100 , alpha = .9 , label = \"Mid\")\n",
    "plt.scatter(Small_Followers , Small_CompoundScore , color = \"blue\" ,\\\n",
    "            edgecolor = \"black\" , s = 100 , alpha = .9 , label = \"Small\")\n",
    "\n",
    "plt.title(\"Media Tweet Compound Sentiment Analysis\")\n",
    "plt.xlabel(\"Twitter Followers (millions $)\")\n",
    "plt.ylabel(\"Tweet Compound Sentiment\")\n",
    "plt.legend(bbox_to_anchor = (1, 1) , title = \"Group\")\n",
    "plt.gcf().set_size_inches(9 , 7 , forward = True)\n",
    "plt.grid()"
   ]
  },
  {
   "cell_type": "markdown",
   "metadata": {},
   "source": [
    "# <font color = red> Market Rank vs Team Wins/Losses Analysis </font>\n",
    "***"
   ]
  },
  {
   "cell_type": "code",
   "execution_count": null,
   "metadata": {},
   "outputs": [],
   "source": [
    "#read csv and create dataframe\n",
    "records_df = pd.read_csv(\"GameResults.csv\", delimiter = '\\t')"
   ]
  },
  {
   "cell_type": "code",
   "execution_count": null,
   "metadata": {},
   "outputs": [],
   "source": [
    "#show the dataframe\n",
    "records_df.head()"
   ]
  },
  {
   "cell_type": "code",
   "execution_count": null,
   "metadata": {},
   "outputs": [],
   "source": [
    "#get the value count of the \"Winning Team\" column to get win#\n",
    "records_df[\"Winning Team\"].value_counts()\n",
    "\n",
    "#create a new data frame with the count of each team's wins\n",
    "team_wins = pd.DataFrame(records_df[\"Winning Team\"].value_counts().reset_index())\n",
    "team_wins.columns = ['Teams', 'Wins']\n",
    "\n",
    "#get the value count of the \"Losing Team\" column to get loss#\n",
    "records_df[\"Losing Team\"].value_counts()\n",
    "\n",
    "#create a new data frame with the count of each team's losses\n",
    "team_losses = pd.DataFrame(records_df[\"Losing Team\"].value_counts().reset_index())\n",
    "team_losses.columns = ['Teams', 'Losses']\n",
    "\n",
    "#merge the 2 dataframe on \"Teams\" to get total records\n",
    "team_records_df = pd.merge(team_wins, team_losses, on = \"Teams\")"
   ]
  },
  {
   "cell_type": "code",
   "execution_count": null,
   "metadata": {},
   "outputs": [],
   "source": [
    "#calculate the win% and add it as a new column of the dataframe\n",
    "team_records_df[\"Win%\"] = (team_records_df[\"Wins\"] / (team_records_df[\"Wins\"]+team_records_df[\"Losses\"]))*100"
   ]
  },
  {
   "cell_type": "code",
   "execution_count": null,
   "metadata": {},
   "outputs": [],
   "source": [
    "#create list of teams for each market size\n",
    "big_market = [\"New York Knicks\", \"Brooklyn Nets\", \"Los Angeles Lakers\", \"Los Angeles Clippers\", \"Chicago Bulls\", \"Toronto Raptors\", \"Philadelphia 76ers\", \"Dallas Mavericks\", \"Washington Wizards\", \"Houston Rockets\"]\n",
    "mid_market = [\"Golden State Warriors\", \"Atlanta Hawks\", \"Boston Celtics\", \"Phoenix Suns\", \"Detroit Pistons\", \"Minnesota Timberwolves\", \"Miami Heat\", \"Denver Nuggets (2)\", \"Orlando Magic\", \"Cleveland Cavaliers\"]\n",
    "small_market = [\"Sacramento Kings\", \"Portland Trail Blazers\", \"Charlotte Hornets\", \"Indiana Pacers\", \"Utah Jazz\", \"San Antonio Spurs\", \"Milwaukee Bucks\", \"Oklahoma City Thunder\", \"Memphis Grizzlies\", \"New Orleans Pelicans\"]"
   ]
  },
  {
   "cell_type": "code",
   "execution_count": null,
   "metadata": {},
   "outputs": [],
   "source": [
    "#create a function that returns a value for market size based on which market the team falls in\n",
    "def MarketSize (row):\n",
    "    if row['Teams'] in big_market:\n",
    "        return \"Big\"\n",
    "    if row[\"Teams\"] in mid_market:\n",
    "        return \"Mid\"\n",
    "    if row[\"Teams\"] in small_market:\n",
    "        return \"Small\"\n",
    "    \n",
    "#create a new column for the dataframe based on the value returned from the function\n",
    "team_records_df[\"Market Size\"] = team_records_df.apply(lambda row: MarketSize (row), axis=1)\n",
    "\n",
    "#sort the dataframe by market size\n",
    "team_records_df = team_records_df.sort_values(by=[\"Market Size\"])\n",
    "\n",
    "#check the dataframe\n",
    "team_records_df"
   ]
  },
  {
   "cell_type": "code",
   "execution_count": null,
   "metadata": {},
   "outputs": [],
   "source": [
    "#create new data frame for all teams, win%, and market size\n",
    "teams_perc = team_records_df[[\"Teams\", \"Win%\", \"Market Size\"]]\n",
    "\n",
    "#display and check the dataframe\n",
    "teams_perc.head()"
   ]
  },
  {
   "cell_type": "code",
   "execution_count": null,
   "metadata": {},
   "outputs": [],
   "source": [
    "#set x_axis and tick_locations\n",
    "x_axis = np.arange(len(teams_perc))\n",
    "tick_locations = [value+0.4 for value in x_axis]\n",
    "\n",
    "#create color map for the 3 groups\n",
    "colors = teams_perc['Market Size'].map({'Big':'r', 'Mid':'g', 'Small':'c'})\n",
    "\n",
    "#plot the graph\n",
    "plt.figure(figsize=(20,3))\n",
    "plt.bar(x_axis, teams_perc[\"Win%\"], color=colors, alpha=0.5, align=\"edge\")\n",
    "\n",
    "#set team names at the tick locations\n",
    "plt.xticks(tick_locations, teams_perc[\"Teams\"], rotation=\"vertical\")\n",
    "\n",
    "#set the plot x-limit and y-limit\n",
    "plt.xlim(-.25,30)\n",
    "plt.ylim(0, max(teams_perc[\"Win%\"])+5)\n",
    "\n",
    "#set the plot title and x and y labels\n",
    "plt.title(\"Win% of NBA Teams\")\n",
    "plt.xlabel(\"Teams\")\n",
    "plt.ylabel(\"Winning Percentage (%)\")"
   ]
  },
  {
   "cell_type": "code",
   "execution_count": null,
   "metadata": {},
   "outputs": [],
   "source": [
    "#divide the dataframe into 3 groups based on the market size and include the Win% column\n",
    "small_market_perc = team_records_df[team_records_df[\"Market Size\"] == \"Small\"][\"Win%\"]\n",
    "mid_market_perc = team_records_df[team_records_df[\"Market Size\"] == \"Mid\"][\"Win%\"]\n",
    "big_market_perc = team_records_df[team_records_df[\"Market Size\"] == \"Big\"][\"Win%\"]"
   ]
  },
  {
   "cell_type": "code",
   "execution_count": null,
   "metadata": {
    "scrolled": true
   },
   "outputs": [],
   "source": [
    "#ANOVA test on win# percentage for the three markets\n",
    "stats.f_oneway(big_market_perc, mid_market_perc, small_market_perc)"
   ]
  },
  {
   "cell_type": "markdown",
   "metadata": {},
   "source": [
    "## <font color = Green> Results: Market Rank vs Wins/Losses Analysis\n",
    "\n",
    "\n",
    "\n",
    "> ### Market Size Win% ANOVA Result:  pvalue=0.753474287062945 \n",
    ">#### Interpretation: \n",
    "$>$ .05:  Accept Null Hypothesis H0\n",
    ">>There is no difference in terms of win% between being in a big market, mid market or small market.\n"
   ]
  },
  {
   "cell_type": "markdown",
   "metadata": {},
   "source": [
    "# <font color = red> Market Size vs Fan Favorites Analysis </font>\n",
    "***"
   ]
  },
  {
   "cell_type": "code",
   "execution_count": null,
   "metadata": {},
   "outputs": [],
   "source": [
    "# File to Load (Remember to change these)\n",
    "FavTeamResults = \"FavTeamPerc.csv\" \n",
    "FavTeamResults2 = \"FavTeamPerc3.csv\" "
   ]
  },
  {
   "cell_type": "code",
   "execution_count": null,
   "metadata": {},
   "outputs": [],
   "source": [
    "# Read % of total fans favorite overall team data\n",
    "fav_df = pd.read_csv(FavTeamResults)\n",
    "fav_df2 = pd.read_csv(FavTeamResults2)"
   ]
  },
  {
   "cell_type": "code",
   "execution_count": null,
   "metadata": {},
   "outputs": [],
   "source": [
    "fav_df2 = pd.pivot_table(fav_df2,index=[\"Market_size\", \"Year.1\", \"Year\"],values=[\"% of All Fans Ranking Team As Favorite\"],aggfunc=np.mean)\n",
    "fav_df2"
   ]
  },
  {
   "cell_type": "code",
   "execution_count": null,
   "metadata": {},
   "outputs": [],
   "source": [
    "fig, ax = plt.subplots()\n",
    "fig.set_size_inches(14, 10)\n",
    "sns.barplot(x=\"Year.1\", y=\"% of All Fans Ranking Team As Favorite\", data=fav_df2.reset_index(), hue=\"Year\")\n",
    "plt.legend(loc=2, bbox_to_anchor=(1, 1))\n",
    "plt.title('% of All NBA Fans Favorite Teams 2013-2017')"
   ]
  },
  {
   "cell_type": "code",
   "execution_count": null,
   "metadata": {},
   "outputs": [],
   "source": [
    "df_2 = 'FavTeamPerc3.csv'\n",
    "ftp_df2 = pd.read_csv(df_2, low_memory=False)\n",
    "\n",
    "ftp_df2 = ftp_df2[['Market_size','Year']].drop_duplicates()\n",
    "\n",
    "ftp_df2.head()"
   ]
  },
  {
   "cell_type": "code",
   "execution_count": null,
   "metadata": {},
   "outputs": [],
   "source": [
    "fav_df_modified= fav_df.merge(ftp_df2,how = 'left',on = 'Year')\n",
    "bigDF = fav_df_modified.loc[fav_df_modified.Market_size == \"Big\"].drop(columns = 'Market_size')\n",
    "midDF = fav_df_modified.loc[fav_df_modified.Market_size == \"Mid\"].drop(columns = 'Market_size')\n",
    "smallDF = fav_df_modified.loc[fav_df_modified.Market_size == \"Small\"].drop(columns = 'Market_size')"
   ]
  },
  {
   "cell_type": "code",
   "execution_count": null,
   "metadata": {},
   "outputs": [],
   "source": [
    "dfTransposed = bigDF.set_index(\"Year\").T\n",
    "\n",
    "\n",
    "dfTransposed.index\n",
    "\n",
    "dfTransposed.reset_index(inplace = True)\n",
    "\n",
    "dfTransposed['index']\n",
    "\n",
    "my_xticks = dfTransposed['index']\n",
    "dfTransposed.plot()\n",
    "plt.grid()\n",
    "\n",
    "plt.legend(loc = \"center left\" , bbox_to_anchor = (1.2, .5) , title = \"Teams\")\n",
    "plt.title(\"TOP 10 FAVORITE NBA TEAMS\" , size = 20)\n",
    "plt.xlabel(\"Year\", size = 18)\n",
    "plt.ylabel(\"% of All Fans Ranking Team As Favorite\" , size = 15)\n",
    "plt.gcf().set_size_inches(10 , 8 , forward = True)\n",
    "plt.xticks(dfTransposed.index,my_xticks)"
   ]
  },
  {
   "cell_type": "code",
   "execution_count": null,
   "metadata": {},
   "outputs": [],
   "source": [
    "dfTransposed = midDF.set_index(\"Year\").T\n",
    "\n",
    "\n",
    "dfTransposed.index\n",
    "\n",
    "dfTransposed.reset_index(inplace = True)\n",
    "\n",
    "dfTransposed['index']\n",
    "\n",
    "my_xticks = dfTransposed['index']\n",
    "dfTransposed.plot()\n",
    "plt.grid()\n",
    "\n",
    "plt.legend(loc = \"center left\" , bbox_to_anchor = (1.2, .5) , title = \"Teams\")\n",
    "plt.title(\"MID-RANKED FAN FAVORITE NBA TEAMS\" , size = 20)\n",
    "plt.xlabel(\"Year\", size = 18)\n",
    "plt.ylabel(\"% of All Fans Ranking Team As Favorite\" , size = 15)\n",
    "plt.gcf().set_size_inches(10 , 8 , forward = True)\n",
    "plt.xticks(dfTransposed.index,my_xticks)"
   ]
  },
  {
   "cell_type": "code",
   "execution_count": null,
   "metadata": {},
   "outputs": [],
   "source": [
    "dfTransposed = smallDF.set_index(\"Year\").T\n",
    "\n",
    "\n",
    "dfTransposed.index\n",
    "\n",
    "dfTransposed.reset_index(inplace = True)\n",
    "\n",
    "dfTransposed['index']\n",
    "\n",
    "my_xticks = dfTransposed['index']\n",
    "dfTransposed.plot()\n",
    "plt.grid()\n",
    "\n",
    "plt.legend(loc = \"center left\" , bbox_to_anchor = (1.2, .5) , title = \"Teams\")\n",
    "plt.title(\"LOWEST RANKED FAN FAVORITE NBA TEAMS\" , size = 20)\n",
    "plt.xlabel(\"Year\", size = 18)\n",
    "plt.ylabel(\"% of All Fans Ranking Team As Favorite\" , size = 15)\n",
    "plt.gcf().set_size_inches(10 , 8 , forward = True)\n",
    "plt.xticks(dfTransposed.index,my_xticks)"
   ]
  },
  {
   "cell_type": "code",
   "execution_count": null,
   "metadata": {
    "scrolled": true
   },
   "outputs": [],
   "source": [
    "dfTransposed = fav_df.set_index(\"Year\").T\n",
    "\n",
    "\n",
    "dfTransposed.index\n",
    "\n",
    "dfTransposed.reset_index(inplace = True)\n",
    "\n",
    "dfTransposed['index']\n",
    "\n",
    "my_xticks = dfTransposed['index']\n",
    "dfTransposed.plot()\n",
    "plt.grid()\n",
    "\n",
    "plt.legend(loc = \"center left\" , bbox_to_anchor = (1.2, .5) , title = \"Teams\")\n",
    "plt.title(\"FAN FAVORITE\" , size = 20)\n",
    "plt.xlabel(\"Year\", size = 18)\n",
    "plt.ylabel(\"% of All Fans Ranking Team As Favorite\" , size = 15)\n",
    "plt.gcf().set_size_inches(10 , 8 , forward = True)\n",
    "plt.xticks(dfTransposed.index,my_xticks)"
   ]
  },
  {
   "cell_type": "code",
   "execution_count": null,
   "metadata": {},
   "outputs": [],
   "source": [
    "FavTeam = pd.read_csv(\"FavTeamPerc3.csv\")\n",
    "FavTeam.head()"
   ]
  },
  {
   "cell_type": "code",
   "execution_count": null,
   "metadata": {},
   "outputs": [],
   "source": [
    "big_filter = FavTeam[FavTeam['Market_rank'] <= 10]\n",
    "big_filter.head()"
   ]
  },
  {
   "cell_type": "code",
   "execution_count": null,
   "metadata": {},
   "outputs": [],
   "source": [
    "mid_filter = FavTeam[(FavTeam['Market_rank'] >10) & (FavTeam['Market_rank'] <=20 )]\n",
    "mid_filter.head()"
   ]
  },
  {
   "cell_type": "code",
   "execution_count": null,
   "metadata": {},
   "outputs": [],
   "source": [
    "sml_filter = FavTeam[(FavTeam['Market_rank'] >20) & (FavTeam['Market_rank'] <=30 )]\n",
    "sml_filter.head()"
   ]
  },
  {
   "cell_type": "code",
   "execution_count": null,
   "metadata": {},
   "outputs": [],
   "source": [
    "BigM   = FavTeam[FavTeam[\"Market_size\"] == \"Big\"][\"% of All Fans Ranking Team As Favorite\"]\n",
    "MidM   = FavTeam[FavTeam[\"Market_size\"] == \"Mid\"][\"% of All Fans Ranking Team As Favorite\"]\n",
    "SmallM = FavTeam[FavTeam[\"Market_size\"] == \"Small\"][\"% of All Fans Ranking Team As Favorite\"]\n",
    "\n",
    "ANOVA_Test = stats.f_oneway(BigM , MidM , SmallM)\n",
    "ANOVA_Test"
   ]
  },
  {
   "cell_type": "markdown",
   "metadata": {},
   "source": [
    "## <font color = Green> Results: Market Size vs Fan Favorites\n",
    "\n",
    "\n",
    "\n",
    "> ### Market Size Fan Favorites ANOVA Result:  pvalue=0.00074902011293344 \n",
    ">#### Interpretation: \n",
    "$<$ .05:  Reject Null Hypothesis H0\n",
    ">>There is a difference in terms of being fan favorites across the 3 groups\n"
   ]
  },
  {
   "cell_type": "markdown",
   "metadata": {},
   "source": [
    "## <font color = Red> Conclusions\n",
    "***\n",
    "- In terms of valuation, being in a big market is more advantageous than being in a small or mid market. \n",
    "- In terms of social media following and polarity sentiments, big market teams have higher number of followers but not necessarily higher the sentiment scores.\n",
    "- In terms of attendance, big market teams have a higher number of attendance than the mid and small market teams.\n",
    "- In terms of win%, there is no difference across the 3 markets\n",
    "- In terms of being fans favorite team, big market teams also have an advantage over the small and mid market teams\n",
    "- Limitation of our analysis: \n",
    "    1. limited data source\n",
    "    2. incomplete census data \n",
    "    3. Twitter was the only social media source\n",
    "    4. The way we divided up the market size rank is not truly representative of actual market size rank.\n",
    "       - there are more big market teams than small and mid market teams (not 10/10/10)\n",
    "   "
   ]
  },
  {
   "cell_type": "code",
   "execution_count": null,
   "metadata": {},
   "outputs": [],
   "source": []
  }
 ],
 "metadata": {
  "kernelspec": {
   "display_name": "Python 3",
   "language": "python",
   "name": "python3"
  },
  "language_info": {
   "codemirror_mode": {
    "name": "ipython",
    "version": 3
   },
   "file_extension": ".py",
   "mimetype": "text/x-python",
   "name": "python",
   "nbconvert_exporter": "python",
   "pygments_lexer": "ipython3",
   "version": "3.6.5"
  }
 },
 "nbformat": 4,
 "nbformat_minor": 2
}
